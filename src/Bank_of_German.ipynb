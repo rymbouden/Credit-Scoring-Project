{
 "cells": [
  {
   "cell_type": "code",
   "execution_count": 1,
   "metadata": {},
   "outputs": [],
   "source": [
    "import pandas as pd\n",
    "import numpy as np \n",
    "import matplotlib.pyplot as plt \n"
   ]
  },
  {
   "cell_type": "code",
   "execution_count": 2,
   "metadata": {},
   "outputs": [],
   "source": [
    "data=pd.read_csv(\"../Data/german.data\",sep=\"\\s+\",header=None,names=[\"Status\",\"Duration\",\"Credit history\",\"Purpose\",\"Credit amount\",\"Savings account/bonds\",\n",
    "\"Present employment since\",\"Installment rate\",\"Personal status and sex\",\"Other debtors / guarantors\",\"Present residence since\",\n",
    "\"Property\",\"Age in years\",\"Other installment plans\",\"Housing\",\"Number of existing credits\",\"Job\",\"Number of people being liable to provide maintenance for\",\"Telephone\",\"Foreign worker\",\"RESULT\"])"
   ]
  },
  {
   "cell_type": "code",
   "execution_count": 3,
   "metadata": {},
   "outputs": [
    {
     "data": {
      "text/html": [
       "<div>\n",
       "<style scoped>\n",
       "    .dataframe tbody tr th:only-of-type {\n",
       "        vertical-align: middle;\n",
       "    }\n",
       "\n",
       "    .dataframe tbody tr th {\n",
       "        vertical-align: top;\n",
       "    }\n",
       "\n",
       "    .dataframe thead th {\n",
       "        text-align: right;\n",
       "    }\n",
       "</style>\n",
       "<table border=\"1\" class=\"dataframe\">\n",
       "  <thead>\n",
       "    <tr style=\"text-align: right;\">\n",
       "      <th></th>\n",
       "      <th>Status</th>\n",
       "      <th>Duration</th>\n",
       "      <th>Credit history</th>\n",
       "      <th>Purpose</th>\n",
       "      <th>Credit amount</th>\n",
       "      <th>Savings account/bonds</th>\n",
       "      <th>Present employment since</th>\n",
       "      <th>Installment rate</th>\n",
       "      <th>Personal status and sex</th>\n",
       "      <th>Other debtors / guarantors</th>\n",
       "      <th>Present residence since</th>\n",
       "      <th>Property</th>\n",
       "      <th>Age in years</th>\n",
       "      <th>Other installment plans</th>\n",
       "      <th>Housing</th>\n",
       "      <th>Number of existing credits</th>\n",
       "      <th>Job</th>\n",
       "      <th>Number of people being liable to provide maintenance for</th>\n",
       "      <th>Telephone</th>\n",
       "      <th>Foreign worker</th>\n",
       "      <th>RESULT</th>\n",
       "    </tr>\n",
       "  </thead>\n",
       "  <tbody>\n",
       "    <tr>\n",
       "      <th>0</th>\n",
       "      <td>A11</td>\n",
       "      <td>6</td>\n",
       "      <td>A34</td>\n",
       "      <td>A43</td>\n",
       "      <td>1169</td>\n",
       "      <td>A65</td>\n",
       "      <td>A75</td>\n",
       "      <td>4</td>\n",
       "      <td>A93</td>\n",
       "      <td>A101</td>\n",
       "      <td>4</td>\n",
       "      <td>A121</td>\n",
       "      <td>67</td>\n",
       "      <td>A143</td>\n",
       "      <td>A152</td>\n",
       "      <td>2</td>\n",
       "      <td>A173</td>\n",
       "      <td>1</td>\n",
       "      <td>A192</td>\n",
       "      <td>A201</td>\n",
       "      <td>1</td>\n",
       "    </tr>\n",
       "    <tr>\n",
       "      <th>1</th>\n",
       "      <td>A12</td>\n",
       "      <td>48</td>\n",
       "      <td>A32</td>\n",
       "      <td>A43</td>\n",
       "      <td>5951</td>\n",
       "      <td>A61</td>\n",
       "      <td>A73</td>\n",
       "      <td>2</td>\n",
       "      <td>A92</td>\n",
       "      <td>A101</td>\n",
       "      <td>2</td>\n",
       "      <td>A121</td>\n",
       "      <td>22</td>\n",
       "      <td>A143</td>\n",
       "      <td>A152</td>\n",
       "      <td>1</td>\n",
       "      <td>A173</td>\n",
       "      <td>1</td>\n",
       "      <td>A191</td>\n",
       "      <td>A201</td>\n",
       "      <td>2</td>\n",
       "    </tr>\n",
       "    <tr>\n",
       "      <th>2</th>\n",
       "      <td>A14</td>\n",
       "      <td>12</td>\n",
       "      <td>A34</td>\n",
       "      <td>A46</td>\n",
       "      <td>2096</td>\n",
       "      <td>A61</td>\n",
       "      <td>A74</td>\n",
       "      <td>2</td>\n",
       "      <td>A93</td>\n",
       "      <td>A101</td>\n",
       "      <td>3</td>\n",
       "      <td>A121</td>\n",
       "      <td>49</td>\n",
       "      <td>A143</td>\n",
       "      <td>A152</td>\n",
       "      <td>1</td>\n",
       "      <td>A172</td>\n",
       "      <td>2</td>\n",
       "      <td>A191</td>\n",
       "      <td>A201</td>\n",
       "      <td>1</td>\n",
       "    </tr>\n",
       "    <tr>\n",
       "      <th>3</th>\n",
       "      <td>A11</td>\n",
       "      <td>42</td>\n",
       "      <td>A32</td>\n",
       "      <td>A42</td>\n",
       "      <td>7882</td>\n",
       "      <td>A61</td>\n",
       "      <td>A74</td>\n",
       "      <td>2</td>\n",
       "      <td>A93</td>\n",
       "      <td>A103</td>\n",
       "      <td>4</td>\n",
       "      <td>A122</td>\n",
       "      <td>45</td>\n",
       "      <td>A143</td>\n",
       "      <td>A153</td>\n",
       "      <td>1</td>\n",
       "      <td>A173</td>\n",
       "      <td>2</td>\n",
       "      <td>A191</td>\n",
       "      <td>A201</td>\n",
       "      <td>1</td>\n",
       "    </tr>\n",
       "    <tr>\n",
       "      <th>4</th>\n",
       "      <td>A11</td>\n",
       "      <td>24</td>\n",
       "      <td>A33</td>\n",
       "      <td>A40</td>\n",
       "      <td>4870</td>\n",
       "      <td>A61</td>\n",
       "      <td>A73</td>\n",
       "      <td>3</td>\n",
       "      <td>A93</td>\n",
       "      <td>A101</td>\n",
       "      <td>4</td>\n",
       "      <td>A124</td>\n",
       "      <td>53</td>\n",
       "      <td>A143</td>\n",
       "      <td>A153</td>\n",
       "      <td>2</td>\n",
       "      <td>A173</td>\n",
       "      <td>2</td>\n",
       "      <td>A191</td>\n",
       "      <td>A201</td>\n",
       "      <td>2</td>\n",
       "    </tr>\n",
       "  </tbody>\n",
       "</table>\n",
       "</div>"
      ],
      "text/plain": [
       "  Status  Duration Credit history Purpose  Credit amount  \\\n",
       "0    A11         6            A34     A43           1169   \n",
       "1    A12        48            A32     A43           5951   \n",
       "2    A14        12            A34     A46           2096   \n",
       "3    A11        42            A32     A42           7882   \n",
       "4    A11        24            A33     A40           4870   \n",
       "\n",
       "  Savings account/bonds Present employment since  Installment rate  \\\n",
       "0                   A65                      A75                 4   \n",
       "1                   A61                      A73                 2   \n",
       "2                   A61                      A74                 2   \n",
       "3                   A61                      A74                 2   \n",
       "4                   A61                      A73                 3   \n",
       "\n",
       "  Personal status and sex Other debtors / guarantors  Present residence since  \\\n",
       "0                     A93                       A101                        4   \n",
       "1                     A92                       A101                        2   \n",
       "2                     A93                       A101                        3   \n",
       "3                     A93                       A103                        4   \n",
       "4                     A93                       A101                        4   \n",
       "\n",
       "  Property  Age in years Other installment plans Housing  \\\n",
       "0     A121            67                    A143    A152   \n",
       "1     A121            22                    A143    A152   \n",
       "2     A121            49                    A143    A152   \n",
       "3     A122            45                    A143    A153   \n",
       "4     A124            53                    A143    A153   \n",
       "\n",
       "   Number of existing credits   Job  \\\n",
       "0                           2  A173   \n",
       "1                           1  A173   \n",
       "2                           1  A172   \n",
       "3                           1  A173   \n",
       "4                           2  A173   \n",
       "\n",
       "   Number of people being liable to provide maintenance for Telephone  \\\n",
       "0                                                  1             A192   \n",
       "1                                                  1             A191   \n",
       "2                                                  2             A191   \n",
       "3                                                  2             A191   \n",
       "4                                                  2             A191   \n",
       "\n",
       "  Foreign worker  RESULT  \n",
       "0           A201       1  \n",
       "1           A201       2  \n",
       "2           A201       1  \n",
       "3           A201       1  \n",
       "4           A201       2  "
      ]
     },
     "execution_count": 3,
     "metadata": {},
     "output_type": "execute_result"
    }
   ],
   "source": [
    "pd.set_option('display.max_columns', 500)\n",
    "data.head()"
   ]
  },
  {
   "cell_type": "markdown",
   "metadata": {},
   "source": [
    "## Analyse descriptive"
   ]
  },
  {
   "cell_type": "code",
   "execution_count": 4,
   "metadata": {},
   "outputs": [
    {
     "name": "stdout",
     "output_type": "stream",
     "text": [
      "<class 'pandas.core.frame.DataFrame'>\n",
      "RangeIndex: 1000 entries, 0 to 999\n",
      "Data columns (total 21 columns):\n",
      "Status                                                      1000 non-null object\n",
      "Duration                                                    1000 non-null int64\n",
      "Credit history                                              1000 non-null object\n",
      "Purpose                                                     1000 non-null object\n",
      "Credit amount                                               1000 non-null int64\n",
      "Savings account/bonds                                       1000 non-null object\n",
      "Present employment since                                    1000 non-null object\n",
      "Installment rate                                            1000 non-null int64\n",
      "Personal status and sex                                     1000 non-null object\n",
      "Other debtors / guarantors                                  1000 non-null object\n",
      "Present residence since                                     1000 non-null int64\n",
      "Property                                                    1000 non-null object\n",
      "Age in years                                                1000 non-null int64\n",
      "Other installment plans                                     1000 non-null object\n",
      "Housing                                                     1000 non-null object\n",
      "Number of existing credits                                  1000 non-null int64\n",
      "Job                                                         1000 non-null object\n",
      "Number of people being liable to provide maintenance for    1000 non-null int64\n",
      "Telephone                                                   1000 non-null object\n",
      "Foreign worker                                              1000 non-null object\n",
      "RESULT                                                      1000 non-null int64\n",
      "dtypes: int64(8), object(13)\n",
      "memory usage: 164.1+ KB\n"
     ]
    }
   ],
   "source": [
    "data.info()"
   ]
  },
  {
   "cell_type": "markdown",
   "metadata": {},
   "source": [
    "- Dans ce jeu de données  on a 1000 clients et 21 variables dont 13 qualitatives et 8 variables quantitatives."
   ]
  },
  {
   "cell_type": "code",
   "execution_count": 5,
   "metadata": {},
   "outputs": [
    {
     "data": {
      "image/png": "[encoded data removed]",
      "text/plain": [
       "<Figure size 720x720 with 9 Axes>"
      ]
     },
     "metadata": {
      "needs_background": "light"
     },
     "output_type": "display_data"
    }
   ],
   "source": [
    "data.hist(figsize=(10,10));"
   ]
  },
  {
   "cell_type": "code",
   "execution_count": 6,
   "metadata": {},
   "outputs": [
    {
     "data": {
      "image/png": "[encoded data removed]",
      "text/plain": [
       "<Figure size 720x720 with 1 Axes>"
      ]
     },
     "metadata": {
      "needs_background": "light"
     },
     "output_type": "display_data"
    }
   ],
   "source": [
    "data.Duration.hist(figsize=(10,10))\n",
    "plt.title('Histogram of Duration')\n",
    "plt.xlabel('Duration')\n",
    "plt.ylabel('Frequency')\n",
    "plt.savefig('hist_DurationN')"
   ]
  },
  {
   "cell_type": "markdown",
   "metadata": {},
   "source": [
    "- La plupart des clients de cette banque  demandent un prêt sur une dureé entre 18 et 24 mois"
   ]
  },
  {
   "cell_type": "code",
   "execution_count": 7,
   "metadata": {},
   "outputs": [
    {
     "data": {
      "image/png": "[encoded data removed]",
      "text/plain": [
       "<Figure size 720x720 with 1 Axes>"
      ]
     },
     "metadata": {
      "needs_background": "light"
     },
     "output_type": "display_data"
    }
   ],
   "source": [
    "data[\"Credit amount\"].hist(figsize=(10,10))\n",
    "plt.title('Histogram of Credit amount')\n",
    "plt.xlabel('Credit amount')\n",
    "plt.ylabel('Frequency')\n",
    "plt.savefig('hist_Credit amount')"
   ]
  },
  {
   "cell_type": "markdown",
   "metadata": {},
   "source": [
    "- La plupart des clients de cette banque demandent un montant du crédit entre 200 DM et 2200 DM "
   ]
  },
  {
   "cell_type": "code",
   "execution_count": 8,
   "metadata": {},
   "outputs": [
    {
     "data": {
      "image/png": "[encoded data removed]",
      "text/plain": [
       "<Figure size 720x720 with 1 Axes>"
      ]
     },
     "metadata": {
      "needs_background": "light"
     },
     "output_type": "display_data"
    }
   ],
   "source": [
    "data[\"Installment rate\"].hist(figsize=(10,10))\n",
    "plt.title('Histogram of Installment rate')\n",
    "plt.xlabel('Installment rate')\n",
    "plt.ylabel('Frequency')\n",
    "plt.savefig('hist_Installment rate')"
   ]
  },
  {
   "cell_type": "markdown",
   "metadata": {},
   "source": [
    "- La plupart des clients de cette banque dans ce dataset ont un taux de versement entre 3.7 et 4"
   ]
  },
  {
   "cell_type": "code",
   "execution_count": 9,
   "metadata": {},
   "outputs": [
    {
     "data": {
      "image/png": "[encoded data removed]",
      "text/plain": [
       "<Figure size 720x720 with 1 Axes>"
      ]
     },
     "metadata": {
      "needs_background": "light"
     },
     "output_type": "display_data"
    }
   ],
   "source": [
    "data[\"Present residence since\"].hist(figsize=(10,10))\n",
    "plt.title('Histogram of Present residence since')\n",
    "plt.xlabel('Present residence since')\n",
    "plt.ylabel('Frequency')\n",
    "plt.savefig('hist_Present residence since')"
   ]
  },
  {
   "cell_type": "markdown",
   "metadata": {},
   "source": [
    "- La plupart des clients de cette banque dans ce dataset sont des Résidents actuelles depuis 3.7 et 4 ans \n"
   ]
  },
  {
   "cell_type": "code",
   "execution_count": 10,
   "metadata": {},
   "outputs": [
    {
     "data": {
      "image/png": "[encoded data removed]",
      "text/plain": [
       "<Figure size 720x720 with 1 Axes>"
      ]
     },
     "metadata": {
      "needs_background": "light"
     },
     "output_type": "display_data"
    }
   ],
   "source": [
    "data[\"Age in years\"].hist(figsize=(10,10))\n",
    "plt.title('Histogram of Age in years')\n",
    "plt.xlabel('Age in years')\n",
    "plt.ylabel('Frequency')\n",
    "plt.savefig('hist_Present Age in years')"
   ]
  },
  {
   "cell_type": "markdown",
   "metadata": {},
   "source": [
    "- La plupart des clients de cette banque dans ce dataset sont agés entre 25 et 30 ans "
   ]
  },
  {
   "cell_type": "code",
   "execution_count": 11,
   "metadata": {},
   "outputs": [
    {
     "data": {
      "image/png": "[encoded data removed]",
      "text/plain": [
       "<Figure size 720x720 with 1 Axes>"
      ]
     },
     "metadata": {
      "needs_background": "light"
     },
     "output_type": "display_data"
    }
   ],
   "source": [
    "data[\"Number of existing credits\"].hist(figsize=(10,10))\n",
    "plt.title('Histogram of Number of existing credits')\n",
    "plt.xlabel('Number of existing credits')\n",
    "plt.ylabel('Frequency')\n",
    "plt.savefig('hist_Number of existing credits')"
   ]
  },
  {
   "cell_type": "markdown",
   "metadata": {},
   "source": [
    "- La plupart des clients de cette banque dans ce dataset ont un seul crédit (existant déja)"
   ]
  },
  {
   "cell_type": "code",
   "execution_count": 12,
   "metadata": {},
   "outputs": [
    {
     "data": {
      "image/png": "[encoded data removed]",
      "text/plain": [
       "<Figure size 720x720 with 1 Axes>"
      ]
     },
     "metadata": {
      "needs_background": "light"
     },
     "output_type": "display_data"
    }
   ],
   "source": [
    "data[\"Number of people being liable to provide maintenance for\"].hist(figsize=(10,10))\n",
    "plt.title('Histogram of Number of people being liable to provide maintenance for')\n",
    "plt.xlabel('Number of people being liable to provide maintenance for')\n",
    "plt.ylabel('Frequency')\n",
    "plt.savefig('hist_Number of people being liable to provide maintenance for')"
   ]
  },
  {
   "cell_type": "markdown",
   "metadata": {},
   "source": [
    "- La plupart des clients de cette banque dans ce dataset ont un nombre des personnes responsables pour assurer la maintenance egale & 1"
   ]
  },
  {
   "cell_type": "markdown",
   "metadata": {},
   "source": [
    "### Analyse des valeurs aberrantes:"
   ]
  },
  {
   "cell_type": "code",
   "execution_count": 13,
   "metadata": {},
   "outputs": [],
   "source": [
    "import seaborn as sns"
   ]
  },
  {
   "cell_type": "code",
   "execution_count": 14,
   "metadata": {},
   "outputs": [
    {
     "data": {
      "text/plain": [
       "<matplotlib.axes._subplots.AxesSubplot at 0x2332e59a780>"
      ]
     },
     "execution_count": 14,
     "metadata": {},
     "output_type": "execute_result"
    },
    {
     "data": {
      "image/png": "[encoded data removed]",
      "text/plain": [
       "<Figure size 432x288 with 1 Axes>"
      ]
     },
     "metadata": {
      "needs_background": "light"
     },
     "output_type": "display_data"
    }
   ],
   "source": [
    "outliers=[]\n",
    "sns.boxplot(x=data['Duration'])"
   ]
  },
  {
   "cell_type": "code",
   "execution_count": 15,
   "metadata": {},
   "outputs": [],
   "source": [
    "dfw = data['Duration']\n",
    "dfw_Q1 = dfw.quantile(0.25)\n",
    "dfw_Q3 = dfw.quantile(0.75)\n",
    "dfw_IQR = dfw_Q3 - dfw_Q1\n",
    "dfw_lowerend = dfw_Q1 - (1.5 * dfw_IQR)\n",
    "dfw_upperend = dfw_Q3 + (1.5 * dfw_IQR)"
   ]
  },
  {
   "cell_type": "code",
   "execution_count": 16,
   "metadata": {},
   "outputs": [],
   "source": [
    "dfw_outliers = dfw[(dfw < dfw_lowerend) | (dfw > dfw_upperend)]\n",
    "dfw_outliers.index\n",
    "outliers.append(dfw_outliers.index)"
   ]
  },
  {
   "cell_type": "code",
   "execution_count": 17,
   "metadata": {},
   "outputs": [
    {
     "data": {
      "text/plain": [
       "70"
      ]
     },
     "execution_count": 17,
     "metadata": {},
     "output_type": "execute_result"
    }
   ],
   "source": [
    "len(outliers[0])"
   ]
  },
  {
   "cell_type": "code",
   "execution_count": 18,
   "metadata": {},
   "outputs": [
    {
     "data": {
      "text/plain": [
       "<matplotlib.axes._subplots.AxesSubplot at 0x2332ea95080>"
      ]
     },
     "execution_count": 18,
     "metadata": {},
     "output_type": "execute_result"
    },
    {
     "data": {
      "image/png": "[encoded data removed]",
      "text/plain": [
       "<Figure size 432x288 with 1 Axes>"
      ]
     },
     "metadata": {
      "needs_background": "light"
     },
     "output_type": "display_data"
    }
   ],
   "source": [
    "sns.boxplot(x=data['Credit amount'])"
   ]
  },
  {
   "cell_type": "code",
   "execution_count": 19,
   "metadata": {},
   "outputs": [],
   "source": [
    "dfw = data['Credit amount']\n",
    "dfw_Q1 = dfw.quantile(0.25)\n",
    "dfw_Q3 = dfw.quantile(0.75)\n",
    "dfw_IQR = dfw_Q3 - dfw_Q1\n",
    "dfw_lowerend = dfw_Q1 - (1.5 * dfw_IQR)\n",
    "dfw_upperend = dfw_Q3 + (1.5 * dfw_IQR)\n",
    "dfw_outliers = dfw[(dfw < dfw_lowerend) | (dfw > dfw_upperend)]\n",
    "dfw_outliers.index\n",
    "outliers.append(dfw_outliers.index)"
   ]
  },
  {
   "cell_type": "code",
   "execution_count": 20,
   "metadata": {},
   "outputs": [
    {
     "data": {
      "text/plain": [
       "72"
      ]
     },
     "execution_count": 20,
     "metadata": {},
     "output_type": "execute_result"
    }
   ],
   "source": [
    "len(outliers[1])"
   ]
  },
  {
   "cell_type": "code",
   "execution_count": 21,
   "metadata": {},
   "outputs": [
    {
     "data": {
      "text/plain": [
       "<matplotlib.axes._subplots.AxesSubplot at 0x2332ead2ac8>"
      ]
     },
     "execution_count": 21,
     "metadata": {},
     "output_type": "execute_result"
    },
    {
     "data": {
      "image/png": "[encoded data removed]",
      "text/plain": [
       "<Figure size 432x288 with 1 Axes>"
      ]
     },
     "metadata": {
      "needs_background": "light"
     },
     "output_type": "display_data"
    }
   ],
   "source": [
    "sns.boxplot(x=data['Installment rate'])"
   ]
  },
  {
   "cell_type": "code",
   "execution_count": 22,
   "metadata": {},
   "outputs": [],
   "source": [
    "dfw = data['Installment rate']\n",
    "dfw_Q1 = dfw.quantile(0.25)\n",
    "dfw_Q3 = dfw.quantile(0.75)\n",
    "dfw_IQR = dfw_Q3 - dfw_Q1\n",
    "dfw_lowerend = dfw_Q1 - (1.5 * dfw_IQR)\n",
    "dfw_upperend = dfw_Q3 + (1.5 * dfw_IQR)\n",
    "dfw_outliers = dfw[(dfw < dfw_lowerend) | (dfw > dfw_upperend)]\n",
    "dfw_outliers.index\n",
    "outliers.append(dfw_outliers.index)"
   ]
  },
  {
   "cell_type": "code",
   "execution_count": 23,
   "metadata": {},
   "outputs": [
    {
     "data": {
      "text/plain": [
       "0"
      ]
     },
     "execution_count": 23,
     "metadata": {},
     "output_type": "execute_result"
    }
   ],
   "source": [
    "len(outliers[2])"
   ]
  },
  {
   "cell_type": "code",
   "execution_count": 24,
   "metadata": {},
   "outputs": [
    {
     "data": {
      "text/plain": [
       "<matplotlib.axes._subplots.AxesSubplot at 0x2332eb2e518>"
      ]
     },
     "execution_count": 24,
     "metadata": {},
     "output_type": "execute_result"
    },
    {
     "data": {
      "image/png": "[encoded data removed]",
      "text/plain": [
       "<Figure size 432x288 with 1 Axes>"
      ]
     },
     "metadata": {
      "needs_background": "light"
     },
     "output_type": "display_data"
    }
   ],
   "source": [
    "sns.boxplot(x=data['Present residence since'])"
   ]
  },
  {
   "cell_type": "code",
   "execution_count": 25,
   "metadata": {},
   "outputs": [],
   "source": [
    "dfw = data['Present residence since']\n",
    "dfw_Q1 = dfw.quantile(0.25)\n",
    "dfw_Q3 = dfw.quantile(0.75)\n",
    "dfw_IQR = dfw_Q3 - dfw_Q1\n",
    "dfw_lowerend = dfw_Q1 - (1.5 * dfw_IQR)\n",
    "dfw_upperend = dfw_Q3 + (1.5 * dfw_IQR)\n",
    "dfw_outliers = dfw[(dfw < dfw_lowerend) | (dfw > dfw_upperend)]\n",
    "dfw_outliers.index\n",
    "outliers.append(dfw_outliers.index)"
   ]
  },
  {
   "cell_type": "code",
   "execution_count": 26,
   "metadata": {},
   "outputs": [
    {
     "data": {
      "text/plain": [
       "0"
      ]
     },
     "execution_count": 26,
     "metadata": {},
     "output_type": "execute_result"
    }
   ],
   "source": [
    "len(outliers[3])"
   ]
  },
  {
   "cell_type": "code",
   "execution_count": 27,
   "metadata": {},
   "outputs": [
    {
     "data": {
      "text/plain": [
       "<matplotlib.axes._subplots.AxesSubplot at 0x2332eb8eb00>"
      ]
     },
     "execution_count": 27,
     "metadata": {},
     "output_type": "execute_result"
    },
    {
     "data": {
      "image/png": "[encoded data removed]",
      "text/plain": [
       "<Figure size 432x288 with 1 Axes>"
      ]
     },
     "metadata": {
      "needs_background": "light"
     },
     "output_type": "display_data"
    }
   ],
   "source": [
    "sns.boxplot(x=data['Age in years'])"
   ]
  },
  {
   "cell_type": "code",
   "execution_count": 28,
   "metadata": {},
   "outputs": [],
   "source": [
    "dfw = data['Age in years']\n",
    "dfw_Q1 = dfw.quantile(0.25)\n",
    "dfw_Q3 = dfw.quantile(0.75)\n",
    "dfw_IQR = dfw_Q3 - dfw_Q1\n",
    "dfw_lowerend = dfw_Q1 - (1.5 * dfw_IQR)\n",
    "dfw_upperend = dfw_Q3 + (1.5 * dfw_IQR)\n",
    "dfw_outliers = dfw[(dfw < dfw_lowerend) | (dfw > dfw_upperend)]\n",
    "dfw_outliers.index\n",
    "outliers.append(dfw_outliers.index)"
   ]
  },
  {
   "cell_type": "code",
   "execution_count": 29,
   "metadata": {},
   "outputs": [
    {
     "data": {
      "text/plain": [
       "Int64Index([  0,  75, 137, 163, 179, 186, 187, 213, 330, 430, 438, 536, 554,\n",
       "            606, 624, 723, 756, 774, 779, 807, 846, 883, 917],\n",
       "           dtype='int64')"
      ]
     },
     "execution_count": 29,
     "metadata": {},
     "output_type": "execute_result"
    }
   ],
   "source": [
    "outliers[4]"
   ]
  },
  {
   "cell_type": "code",
   "execution_count": 30,
   "metadata": {},
   "outputs": [
    {
     "data": {
      "text/plain": [
       "<matplotlib.axes._subplots.AxesSubplot at 0x2332e8e7978>"
      ]
     },
     "execution_count": 30,
     "metadata": {},
     "output_type": "execute_result"
    },
    {
     "data": {
      "image/png": "[encoded data removed]",
      "text/plain": [
       "<Figure size 432x288 with 1 Axes>"
      ]
     },
     "metadata": {
      "needs_background": "light"
     },
     "output_type": "display_data"
    }
   ],
   "source": [
    "sns.boxplot(x=data['Number of existing credits'])"
   ]
  },
  {
   "cell_type": "code",
   "execution_count": 31,
   "metadata": {},
   "outputs": [],
   "source": [
    "dfw = data['Number of existing credits']\n",
    "dfw_Q1 = dfw.quantile(0.25)\n",
    "dfw_Q3 = dfw.quantile(0.75)\n",
    "dfw_IQR = dfw_Q3 - dfw_Q1\n",
    "dfw_lowerend = dfw_Q1 - (1.5 * dfw_IQR)\n",
    "dfw_upperend = dfw_Q3 + (1.5 * dfw_IQR)\n",
    "dfw_outliers = dfw[(dfw < dfw_lowerend) | (dfw > dfw_upperend)]\n",
    "dfw_outliers.index\n",
    "outliers.append(dfw_outliers.index)"
   ]
  },
  {
   "cell_type": "code",
   "execution_count": 32,
   "metadata": {},
   "outputs": [
    {
     "data": {
      "text/plain": [
       "6"
      ]
     },
     "execution_count": 32,
     "metadata": {},
     "output_type": "execute_result"
    }
   ],
   "source": [
    "len(outliers[5])"
   ]
  },
  {
   "cell_type": "code",
   "execution_count": 33,
   "metadata": {},
   "outputs": [
    {
     "data": {
      "text/plain": [
       "<matplotlib.axes._subplots.AxesSubplot at 0x2332ec50518>"
      ]
     },
     "execution_count": 33,
     "metadata": {},
     "output_type": "execute_result"
    },
    {
     "data": {
      "image/png": "[encoded data removed]",
      "text/plain": [
       "<Figure size 432x288 with 1 Axes>"
      ]
     },
     "metadata": {
      "needs_background": "light"
     },
     "output_type": "display_data"
    }
   ],
   "source": [
    "sns.boxplot(x=data[\"Number of people being liable to provide maintenance for\"])"
   ]
  },
  {
   "cell_type": "code",
   "execution_count": 34,
   "metadata": {},
   "outputs": [],
   "source": [
    "dfw = data[\"Number of people being liable to provide maintenance for\"]\n",
    "dfw_Q1 = dfw.quantile(0.25)\n",
    "dfw_Q3 = dfw.quantile(0.75)\n",
    "dfw_IQR = dfw_Q3 - dfw_Q1\n",
    "dfw_lowerend = dfw_Q1 - (1.5 * dfw_IQR)\n",
    "dfw_upperend = dfw_Q3 + (1.5 * dfw_IQR)\n",
    "dfw_outliers = dfw[(dfw < dfw_lowerend) | (dfw > dfw_upperend)]\n",
    "dfw_outliers.index\n",
    "outliers.append(dfw_outliers.index)"
   ]
  },
  {
   "cell_type": "code",
   "execution_count": 35,
   "metadata": {},
   "outputs": [
    {
     "data": {
      "text/plain": [
       "155"
      ]
     },
     "execution_count": 35,
     "metadata": {},
     "output_type": "execute_result"
    }
   ],
   "source": [
    "len(outliers[6])"
   ]
  },
  {
   "cell_type": "markdown",
   "metadata": {},
   "source": [
    "for i in range(0,7):\n",
    "    data=data.drop(outliers[i], errors='ignore')"
   ]
  },
  {
   "cell_type": "markdown",
   "metadata": {},
   "source": [
    "- En supprimant les valeurs aberrantes le nombre des clients a diminué de 1000 à 728 "
   ]
  },
  {
   "cell_type": "markdown",
   "metadata": {},
   "source": [
    "- Dans la suite je ne vais pas supprimer les valeurs abérrantes car ceçi va faire diminuer les scores des algorithmes "
   ]
  },
  {
   "cell_type": "markdown",
   "metadata": {},
   "source": [
    "data.shape"
   ]
  },
  {
   "cell_type": "markdown",
   "metadata": {},
   "source": [
    "## **I) Features Engineering**"
   ]
  },
  {
   "cell_type": "markdown",
   "metadata": {},
   "source": [
    "### Encoding dummy variables"
   ]
  },
  {
   "cell_type": "code",
   "execution_count": 36,
   "metadata": {},
   "outputs": [],
   "source": [
    "dummies=[\"Status\",\"Credit history\",\"Purpose\",\"Savings account/bonds\",\"Present employment since\",\"Personal status and sex\",\n",
    "\"Other debtors / guarantors\",\"Property\",\"Other installment plans\",\"Housing\",\"Job\"]"
   ]
  },
  {
   "cell_type": "code",
   "execution_count": 37,
   "metadata": {},
   "outputs": [],
   "source": [
    "data_dummied = pd.get_dummies(data, columns=dummies,drop_first=True)"
   ]
  },
  {
   "cell_type": "code",
   "execution_count": 38,
   "metadata": {},
   "outputs": [],
   "source": [
    "data_dummied['Telephone'] = data_dummied['Telephone'].map( {'A191': 0, 'A192': 1} ).astype(int)\n",
    "data_dummied['Foreign worker'] = data_dummied['Foreign worker'].map( {'A201': 1, 'A202': 0} ).astype(int)"
   ]
  },
  {
   "cell_type": "code",
   "execution_count": 39,
   "metadata": {},
   "outputs": [
    {
     "data": {
      "text/html": [
       "<div>\n",
       "<style scoped>\n",
       "    .dataframe tbody tr th:only-of-type {\n",
       "        vertical-align: middle;\n",
       "    }\n",
       "\n",
       "    .dataframe tbody tr th {\n",
       "        vertical-align: top;\n",
       "    }\n",
       "\n",
       "    .dataframe thead th {\n",
       "        text-align: right;\n",
       "    }\n",
       "</style>\n",
       "<table border=\"1\" class=\"dataframe\">\n",
       "  <thead>\n",
       "    <tr style=\"text-align: right;\">\n",
       "      <th></th>\n",
       "      <th>Duration</th>\n",
       "      <th>Credit amount</th>\n",
       "      <th>Installment rate</th>\n",
       "      <th>Present residence since</th>\n",
       "      <th>Age in years</th>\n",
       "      <th>Number of existing credits</th>\n",
       "      <th>Number of people being liable to provide maintenance for</th>\n",
       "      <th>Telephone</th>\n",
       "      <th>Foreign worker</th>\n",
       "      <th>RESULT</th>\n",
       "      <th>Status_A12</th>\n",
       "      <th>Status_A13</th>\n",
       "      <th>Status_A14</th>\n",
       "      <th>Credit history_A31</th>\n",
       "      <th>Credit history_A32</th>\n",
       "      <th>Credit history_A33</th>\n",
       "      <th>Credit history_A34</th>\n",
       "      <th>Purpose_A41</th>\n",
       "      <th>Purpose_A410</th>\n",
       "      <th>Purpose_A42</th>\n",
       "      <th>Purpose_A43</th>\n",
       "      <th>Purpose_A44</th>\n",
       "      <th>Purpose_A45</th>\n",
       "      <th>Purpose_A46</th>\n",
       "      <th>Purpose_A48</th>\n",
       "      <th>Purpose_A49</th>\n",
       "      <th>Savings account/bonds_A62</th>\n",
       "      <th>Savings account/bonds_A63</th>\n",
       "      <th>Savings account/bonds_A64</th>\n",
       "      <th>Savings account/bonds_A65</th>\n",
       "      <th>Present employment since_A72</th>\n",
       "      <th>Present employment since_A73</th>\n",
       "      <th>Present employment since_A74</th>\n",
       "      <th>Present employment since_A75</th>\n",
       "      <th>Personal status and sex_A92</th>\n",
       "      <th>Personal status and sex_A93</th>\n",
       "      <th>Personal status and sex_A94</th>\n",
       "      <th>Other debtors / guarantors_A102</th>\n",
       "      <th>Other debtors / guarantors_A103</th>\n",
       "      <th>Property_A122</th>\n",
       "      <th>Property_A123</th>\n",
       "      <th>Property_A124</th>\n",
       "      <th>Other installment plans_A142</th>\n",
       "      <th>Other installment plans_A143</th>\n",
       "      <th>Housing_A152</th>\n",
       "      <th>Housing_A153</th>\n",
       "      <th>Job_A172</th>\n",
       "      <th>Job_A173</th>\n",
       "      <th>Job_A174</th>\n",
       "    </tr>\n",
       "  </thead>\n",
       "  <tbody>\n",
       "    <tr>\n",
       "      <th>0</th>\n",
       "      <td>6</td>\n",
       "      <td>1169</td>\n",
       "      <td>4</td>\n",
       "      <td>4</td>\n",
       "      <td>67</td>\n",
       "      <td>2</td>\n",
       "      <td>1</td>\n",
       "      <td>1</td>\n",
       "      <td>1</td>\n",
       "      <td>1</td>\n",
       "      <td>0</td>\n",
       "      <td>0</td>\n",
       "      <td>0</td>\n",
       "      <td>0</td>\n",
       "      <td>0</td>\n",
       "      <td>0</td>\n",
       "      <td>1</td>\n",
       "      <td>0</td>\n",
       "      <td>0</td>\n",
       "      <td>0</td>\n",
       "      <td>1</td>\n",
       "      <td>0</td>\n",
       "      <td>0</td>\n",
       "      <td>0</td>\n",
       "      <td>0</td>\n",
       "      <td>0</td>\n",
       "      <td>0</td>\n",
       "      <td>0</td>\n",
       "      <td>0</td>\n",
       "      <td>1</td>\n",
       "      <td>0</td>\n",
       "      <td>0</td>\n",
       "      <td>0</td>\n",
       "      <td>1</td>\n",
       "      <td>0</td>\n",
       "      <td>1</td>\n",
       "      <td>0</td>\n",
       "      <td>0</td>\n",
       "      <td>0</td>\n",
       "      <td>0</td>\n",
       "      <td>0</td>\n",
       "      <td>0</td>\n",
       "      <td>0</td>\n",
       "      <td>1</td>\n",
       "      <td>1</td>\n",
       "      <td>0</td>\n",
       "      <td>0</td>\n",
       "      <td>1</td>\n",
       "      <td>0</td>\n",
       "    </tr>\n",
       "    <tr>\n",
       "      <th>1</th>\n",
       "      <td>48</td>\n",
       "      <td>5951</td>\n",
       "      <td>2</td>\n",
       "      <td>2</td>\n",
       "      <td>22</td>\n",
       "      <td>1</td>\n",
       "      <td>1</td>\n",
       "      <td>0</td>\n",
       "      <td>1</td>\n",
       "      <td>2</td>\n",
       "      <td>1</td>\n",
       "      <td>0</td>\n",
       "      <td>0</td>\n",
       "      <td>0</td>\n",
       "      <td>1</td>\n",
       "      <td>0</td>\n",
       "      <td>0</td>\n",
       "      <td>0</td>\n",
       "      <td>0</td>\n",
       "      <td>0</td>\n",
       "      <td>1</td>\n",
       "      <td>0</td>\n",
       "      <td>0</td>\n",
       "      <td>0</td>\n",
       "      <td>0</td>\n",
       "      <td>0</td>\n",
       "      <td>0</td>\n",
       "      <td>0</td>\n",
       "      <td>0</td>\n",
       "      <td>0</td>\n",
       "      <td>0</td>\n",
       "      <td>1</td>\n",
       "      <td>0</td>\n",
       "      <td>0</td>\n",
       "      <td>1</td>\n",
       "      <td>0</td>\n",
       "      <td>0</td>\n",
       "      <td>0</td>\n",
       "      <td>0</td>\n",
       "      <td>0</td>\n",
       "      <td>0</td>\n",
       "      <td>0</td>\n",
       "      <td>0</td>\n",
       "      <td>1</td>\n",
       "      <td>1</td>\n",
       "      <td>0</td>\n",
       "      <td>0</td>\n",
       "      <td>1</td>\n",
       "      <td>0</td>\n",
       "    </tr>\n",
       "    <tr>\n",
       "      <th>2</th>\n",
       "      <td>12</td>\n",
       "      <td>2096</td>\n",
       "      <td>2</td>\n",
       "      <td>3</td>\n",
       "      <td>49</td>\n",
       "      <td>1</td>\n",
       "      <td>2</td>\n",
       "      <td>0</td>\n",
       "      <td>1</td>\n",
       "      <td>1</td>\n",
       "      <td>0</td>\n",
       "      <td>0</td>\n",
       "      <td>1</td>\n",
       "      <td>0</td>\n",
       "      <td>0</td>\n",
       "      <td>0</td>\n",
       "      <td>1</td>\n",
       "      <td>0</td>\n",
       "      <td>0</td>\n",
       "      <td>0</td>\n",
       "      <td>0</td>\n",
       "      <td>0</td>\n",
       "      <td>0</td>\n",
       "      <td>1</td>\n",
       "      <td>0</td>\n",
       "      <td>0</td>\n",
       "      <td>0</td>\n",
       "      <td>0</td>\n",
       "      <td>0</td>\n",
       "      <td>0</td>\n",
       "      <td>0</td>\n",
       "      <td>0</td>\n",
       "      <td>1</td>\n",
       "      <td>0</td>\n",
       "      <td>0</td>\n",
       "      <td>1</td>\n",
       "      <td>0</td>\n",
       "      <td>0</td>\n",
       "      <td>0</td>\n",
       "      <td>0</td>\n",
       "      <td>0</td>\n",
       "      <td>0</td>\n",
       "      <td>0</td>\n",
       "      <td>1</td>\n",
       "      <td>1</td>\n",
       "      <td>0</td>\n",
       "      <td>1</td>\n",
       "      <td>0</td>\n",
       "      <td>0</td>\n",
       "    </tr>\n",
       "    <tr>\n",
       "      <th>3</th>\n",
       "      <td>42</td>\n",
       "      <td>7882</td>\n",
       "      <td>2</td>\n",
       "      <td>4</td>\n",
       "      <td>45</td>\n",
       "      <td>1</td>\n",
       "      <td>2</td>\n",
       "      <td>0</td>\n",
       "      <td>1</td>\n",
       "      <td>1</td>\n",
       "      <td>0</td>\n",
       "      <td>0</td>\n",
       "      <td>0</td>\n",
       "      <td>0</td>\n",
       "      <td>1</td>\n",
       "      <td>0</td>\n",
       "      <td>0</td>\n",
       "      <td>0</td>\n",
       "      <td>0</td>\n",
       "      <td>1</td>\n",
       "      <td>0</td>\n",
       "      <td>0</td>\n",
       "      <td>0</td>\n",
       "      <td>0</td>\n",
       "      <td>0</td>\n",
       "      <td>0</td>\n",
       "      <td>0</td>\n",
       "      <td>0</td>\n",
       "      <td>0</td>\n",
       "      <td>0</td>\n",
       "      <td>0</td>\n",
       "      <td>0</td>\n",
       "      <td>1</td>\n",
       "      <td>0</td>\n",
       "      <td>0</td>\n",
       "      <td>1</td>\n",
       "      <td>0</td>\n",
       "      <td>0</td>\n",
       "      <td>1</td>\n",
       "      <td>1</td>\n",
       "      <td>0</td>\n",
       "      <td>0</td>\n",
       "      <td>0</td>\n",
       "      <td>1</td>\n",
       "      <td>0</td>\n",
       "      <td>1</td>\n",
       "      <td>0</td>\n",
       "      <td>1</td>\n",
       "      <td>0</td>\n",
       "    </tr>\n",
       "    <tr>\n",
       "      <th>4</th>\n",
       "      <td>24</td>\n",
       "      <td>4870</td>\n",
       "      <td>3</td>\n",
       "      <td>4</td>\n",
       "      <td>53</td>\n",
       "      <td>2</td>\n",
       "      <td>2</td>\n",
       "      <td>0</td>\n",
       "      <td>1</td>\n",
       "      <td>2</td>\n",
       "      <td>0</td>\n",
       "      <td>0</td>\n",
       "      <td>0</td>\n",
       "      <td>0</td>\n",
       "      <td>0</td>\n",
       "      <td>1</td>\n",
       "      <td>0</td>\n",
       "      <td>0</td>\n",
       "      <td>0</td>\n",
       "      <td>0</td>\n",
       "      <td>0</td>\n",
       "      <td>0</td>\n",
       "      <td>0</td>\n",
       "      <td>0</td>\n",
       "      <td>0</td>\n",
       "      <td>0</td>\n",
       "      <td>0</td>\n",
       "      <td>0</td>\n",
       "      <td>0</td>\n",
       "      <td>0</td>\n",
       "      <td>0</td>\n",
       "      <td>1</td>\n",
       "      <td>0</td>\n",
       "      <td>0</td>\n",
       "      <td>0</td>\n",
       "      <td>1</td>\n",
       "      <td>0</td>\n",
       "      <td>0</td>\n",
       "      <td>0</td>\n",
       "      <td>0</td>\n",
       "      <td>0</td>\n",
       "      <td>1</td>\n",
       "      <td>0</td>\n",
       "      <td>1</td>\n",
       "      <td>0</td>\n",
       "      <td>1</td>\n",
       "      <td>0</td>\n",
       "      <td>1</td>\n",
       "      <td>0</td>\n",
       "    </tr>\n",
       "  </tbody>\n",
       "</table>\n",
       "</div>"
      ],
      "text/plain": [
       "   Duration  Credit amount  Installment rate  Present residence since  \\\n",
       "0         6           1169                 4                        4   \n",
       "1        48           5951                 2                        2   \n",
       "2        12           2096                 2                        3   \n",
       "3        42           7882                 2                        4   \n",
       "4        24           4870                 3                        4   \n",
       "\n",
       "   Age in years  Number of existing credits  \\\n",
       "0            67                           2   \n",
       "1            22                           1   \n",
       "2            49                           1   \n",
       "3            45                           1   \n",
       "4            53                           2   \n",
       "\n",
       "   Number of people being liable to provide maintenance for  Telephone  \\\n",
       "0                                                  1                 1   \n",
       "1                                                  1                 0   \n",
       "2                                                  2                 0   \n",
       "3                                                  2                 0   \n",
       "4                                                  2                 0   \n",
       "\n",
       "   Foreign worker  RESULT  Status_A12  Status_A13  Status_A14  \\\n",
       "0               1       1           0           0           0   \n",
       "1               1       2           1           0           0   \n",
       "2               1       1           0           0           1   \n",
       "3               1       1           0           0           0   \n",
       "4               1       2           0           0           0   \n",
       "\n",
       "   Credit history_A31  Credit history_A32  Credit history_A33  \\\n",
       "0                   0                   0                   0   \n",
       "1                   0                   1                   0   \n",
       "2                   0                   0                   0   \n",
       "3                   0                   1                   0   \n",
       "4                   0                   0                   1   \n",
       "\n",
       "   Credit history_A34  Purpose_A41  Purpose_A410  Purpose_A42  Purpose_A43  \\\n",
       "0                   1            0             0            0            1   \n",
       "1                   0            0             0            0            1   \n",
       "2                   1            0             0            0            0   \n",
       "3                   0            0             0            1            0   \n",
       "4                   0            0             0            0            0   \n",
       "\n",
       "   Purpose_A44  Purpose_A45  Purpose_A46  Purpose_A48  Purpose_A49  \\\n",
       "0            0            0            0            0            0   \n",
       "1            0            0            0            0            0   \n",
       "2            0            0            1            0            0   \n",
       "3            0            0            0            0            0   \n",
       "4            0            0            0            0            0   \n",
       "\n",
       "   Savings account/bonds_A62  Savings account/bonds_A63  \\\n",
       "0                          0                          0   \n",
       "1                          0                          0   \n",
       "2                          0                          0   \n",
       "3                          0                          0   \n",
       "4                          0                          0   \n",
       "\n",
       "   Savings account/bonds_A64  Savings account/bonds_A65  \\\n",
       "0                          0                          1   \n",
       "1                          0                          0   \n",
       "2                          0                          0   \n",
       "3                          0                          0   \n",
       "4                          0                          0   \n",
       "\n",
       "   Present employment since_A72  Present employment since_A73  \\\n",
       "0                             0                             0   \n",
       "1                             0                             1   \n",
       "2                             0                             0   \n",
       "3                             0                             0   \n",
       "4                             0                             1   \n",
       "\n",
       "   Present employment since_A74  Present employment since_A75  \\\n",
       "0                             0                             1   \n",
       "1                             0                             0   \n",
       "2                             1                             0   \n",
       "3                             1                             0   \n",
       "4                             0                             0   \n",
       "\n",
       "   Personal status and sex_A92  Personal status and sex_A93  \\\n",
       "0                            0                            1   \n",
       "1                            1                            0   \n",
       "2                            0                            1   \n",
       "3                            0                            1   \n",
       "4                            0                            1   \n",
       "\n",
       "   Personal status and sex_A94  Other debtors / guarantors_A102  \\\n",
       "0                            0                                0   \n",
       "1                            0                                0   \n",
       "2                            0                                0   \n",
       "3                            0                                0   \n",
       "4                            0                                0   \n",
       "\n",
       "   Other debtors / guarantors_A103  Property_A122  Property_A123  \\\n",
       "0                                0              0              0   \n",
       "1                                0              0              0   \n",
       "2                                0              0              0   \n",
       "3                                1              1              0   \n",
       "4                                0              0              0   \n",
       "\n",
       "   Property_A124  Other installment plans_A142  Other installment plans_A143  \\\n",
       "0              0                             0                             1   \n",
       "1              0                             0                             1   \n",
       "2              0                             0                             1   \n",
       "3              0                             0                             1   \n",
       "4              1                             0                             1   \n",
       "\n",
       "   Housing_A152  Housing_A153  Job_A172  Job_A173  Job_A174  \n",
       "0             1             0         0         1         0  \n",
       "1             1             0         0         1         0  \n",
       "2             1             0         1         0         0  \n",
       "3             0             1         0         1         0  \n",
       "4             0             1         0         1         0  "
      ]
     },
     "execution_count": 39,
     "metadata": {},
     "output_type": "execute_result"
    }
   ],
   "source": [
    "data_dummied.head()\n",
    "#data_dummied.shape\n"
   ]
  },
  {
   "cell_type": "code",
   "execution_count": 40,
   "metadata": {},
   "outputs": [],
   "source": [
    "X= data_dummied.iloc[:,data_dummied.columns != 'RESULT'].values\n",
    "y= pd.factorize(data_dummied['RESULT'])[0]\n",
    "data_dummied2=data_dummied.drop(columns=[\"Housing_A153\",\"RESULT\"])\n",
    "data_dummied2.head()\n",
    "data_dummied2['target']=y\n",
    "data_dummied2.head();"
   ]
  },
  {
   "cell_type": "markdown",
   "metadata": {},
   "source": [
    "## **II) Features Selection**"
   ]
  },
  {
   "cell_type": "markdown",
   "metadata": {},
   "source": [
    "### 1)Checking for correlated colums"
   ]
  },
  {
   "cell_type": "code",
   "execution_count": 41,
   "metadata": {},
   "outputs": [
    {
     "data": {
      "text/html": [
       "<div>\n",
       "<style scoped>\n",
       "    .dataframe tbody tr th:only-of-type {\n",
       "        vertical-align: middle;\n",
       "    }\n",
       "\n",
       "    .dataframe tbody tr th {\n",
       "        vertical-align: top;\n",
       "    }\n",
       "\n",
       "    .dataframe thead th {\n",
       "        text-align: right;\n",
       "    }\n",
       "</style>\n",
       "<table border=\"1\" class=\"dataframe\">\n",
       "  <thead>\n",
       "    <tr style=\"text-align: right;\">\n",
       "      <th></th>\n",
       "      <th>0</th>\n",
       "      <th>1</th>\n",
       "      <th>2</th>\n",
       "      <th>3</th>\n",
       "      <th>4</th>\n",
       "      <th>5</th>\n",
       "      <th>6</th>\n",
       "      <th>7</th>\n",
       "      <th>8</th>\n",
       "      <th>9</th>\n",
       "      <th>10</th>\n",
       "      <th>11</th>\n",
       "      <th>12</th>\n",
       "      <th>13</th>\n",
       "      <th>14</th>\n",
       "      <th>15</th>\n",
       "      <th>16</th>\n",
       "      <th>17</th>\n",
       "      <th>18</th>\n",
       "      <th>19</th>\n",
       "      <th>20</th>\n",
       "      <th>21</th>\n",
       "      <th>22</th>\n",
       "      <th>23</th>\n",
       "      <th>24</th>\n",
       "      <th>25</th>\n",
       "      <th>26</th>\n",
       "      <th>27</th>\n",
       "      <th>28</th>\n",
       "      <th>29</th>\n",
       "      <th>30</th>\n",
       "      <th>31</th>\n",
       "      <th>32</th>\n",
       "      <th>33</th>\n",
       "      <th>34</th>\n",
       "      <th>35</th>\n",
       "      <th>36</th>\n",
       "      <th>37</th>\n",
       "      <th>38</th>\n",
       "      <th>39</th>\n",
       "      <th>40</th>\n",
       "      <th>41</th>\n",
       "      <th>42</th>\n",
       "      <th>43</th>\n",
       "      <th>44</th>\n",
       "      <th>45</th>\n",
       "      <th>46</th>\n",
       "      <th>47</th>\n",
       "    </tr>\n",
       "  </thead>\n",
       "  <tbody>\n",
       "    <tr>\n",
       "      <th>0</th>\n",
       "      <td>6</td>\n",
       "      <td>1169</td>\n",
       "      <td>4</td>\n",
       "      <td>4</td>\n",
       "      <td>67</td>\n",
       "      <td>2</td>\n",
       "      <td>1</td>\n",
       "      <td>1</td>\n",
       "      <td>1</td>\n",
       "      <td>0</td>\n",
       "      <td>0</td>\n",
       "      <td>0</td>\n",
       "      <td>0</td>\n",
       "      <td>0</td>\n",
       "      <td>0</td>\n",
       "      <td>1</td>\n",
       "      <td>0</td>\n",
       "      <td>0</td>\n",
       "      <td>0</td>\n",
       "      <td>1</td>\n",
       "      <td>0</td>\n",
       "      <td>0</td>\n",
       "      <td>0</td>\n",
       "      <td>0</td>\n",
       "      <td>0</td>\n",
       "      <td>0</td>\n",
       "      <td>0</td>\n",
       "      <td>0</td>\n",
       "      <td>1</td>\n",
       "      <td>0</td>\n",
       "      <td>0</td>\n",
       "      <td>0</td>\n",
       "      <td>1</td>\n",
       "      <td>0</td>\n",
       "      <td>1</td>\n",
       "      <td>0</td>\n",
       "      <td>0</td>\n",
       "      <td>0</td>\n",
       "      <td>0</td>\n",
       "      <td>0</td>\n",
       "      <td>0</td>\n",
       "      <td>0</td>\n",
       "      <td>1</td>\n",
       "      <td>1</td>\n",
       "      <td>0</td>\n",
       "      <td>0</td>\n",
       "      <td>1</td>\n",
       "      <td>0</td>\n",
       "    </tr>\n",
       "    <tr>\n",
       "      <th>1</th>\n",
       "      <td>48</td>\n",
       "      <td>5951</td>\n",
       "      <td>2</td>\n",
       "      <td>2</td>\n",
       "      <td>22</td>\n",
       "      <td>1</td>\n",
       "      <td>1</td>\n",
       "      <td>0</td>\n",
       "      <td>1</td>\n",
       "      <td>1</td>\n",
       "      <td>0</td>\n",
       "      <td>0</td>\n",
       "      <td>0</td>\n",
       "      <td>1</td>\n",
       "      <td>0</td>\n",
       "      <td>0</td>\n",
       "      <td>0</td>\n",
       "      <td>0</td>\n",
       "      <td>0</td>\n",
       "      <td>1</td>\n",
       "      <td>0</td>\n",
       "      <td>0</td>\n",
       "      <td>0</td>\n",
       "      <td>0</td>\n",
       "      <td>0</td>\n",
       "      <td>0</td>\n",
       "      <td>0</td>\n",
       "      <td>0</td>\n",
       "      <td>0</td>\n",
       "      <td>0</td>\n",
       "      <td>1</td>\n",
       "      <td>0</td>\n",
       "      <td>0</td>\n",
       "      <td>1</td>\n",
       "      <td>0</td>\n",
       "      <td>0</td>\n",
       "      <td>0</td>\n",
       "      <td>0</td>\n",
       "      <td>0</td>\n",
       "      <td>0</td>\n",
       "      <td>0</td>\n",
       "      <td>0</td>\n",
       "      <td>1</td>\n",
       "      <td>1</td>\n",
       "      <td>0</td>\n",
       "      <td>0</td>\n",
       "      <td>1</td>\n",
       "      <td>0</td>\n",
       "    </tr>\n",
       "    <tr>\n",
       "      <th>2</th>\n",
       "      <td>12</td>\n",
       "      <td>2096</td>\n",
       "      <td>2</td>\n",
       "      <td>3</td>\n",
       "      <td>49</td>\n",
       "      <td>1</td>\n",
       "      <td>2</td>\n",
       "      <td>0</td>\n",
       "      <td>1</td>\n",
       "      <td>0</td>\n",
       "      <td>0</td>\n",
       "      <td>1</td>\n",
       "      <td>0</td>\n",
       "      <td>0</td>\n",
       "      <td>0</td>\n",
       "      <td>1</td>\n",
       "      <td>0</td>\n",
       "      <td>0</td>\n",
       "      <td>0</td>\n",
       "      <td>0</td>\n",
       "      <td>0</td>\n",
       "      <td>0</td>\n",
       "      <td>1</td>\n",
       "      <td>0</td>\n",
       "      <td>0</td>\n",
       "      <td>0</td>\n",
       "      <td>0</td>\n",
       "      <td>0</td>\n",
       "      <td>0</td>\n",
       "      <td>0</td>\n",
       "      <td>0</td>\n",
       "      <td>1</td>\n",
       "      <td>0</td>\n",
       "      <td>0</td>\n",
       "      <td>1</td>\n",
       "      <td>0</td>\n",
       "      <td>0</td>\n",
       "      <td>0</td>\n",
       "      <td>0</td>\n",
       "      <td>0</td>\n",
       "      <td>0</td>\n",
       "      <td>0</td>\n",
       "      <td>1</td>\n",
       "      <td>1</td>\n",
       "      <td>0</td>\n",
       "      <td>1</td>\n",
       "      <td>0</td>\n",
       "      <td>0</td>\n",
       "    </tr>\n",
       "    <tr>\n",
       "      <th>3</th>\n",
       "      <td>42</td>\n",
       "      <td>7882</td>\n",
       "      <td>2</td>\n",
       "      <td>4</td>\n",
       "      <td>45</td>\n",
       "      <td>1</td>\n",
       "      <td>2</td>\n",
       "      <td>0</td>\n",
       "      <td>1</td>\n",
       "      <td>0</td>\n",
       "      <td>0</td>\n",
       "      <td>0</td>\n",
       "      <td>0</td>\n",
       "      <td>1</td>\n",
       "      <td>0</td>\n",
       "      <td>0</td>\n",
       "      <td>0</td>\n",
       "      <td>0</td>\n",
       "      <td>1</td>\n",
       "      <td>0</td>\n",
       "      <td>0</td>\n",
       "      <td>0</td>\n",
       "      <td>0</td>\n",
       "      <td>0</td>\n",
       "      <td>0</td>\n",
       "      <td>0</td>\n",
       "      <td>0</td>\n",
       "      <td>0</td>\n",
       "      <td>0</td>\n",
       "      <td>0</td>\n",
       "      <td>0</td>\n",
       "      <td>1</td>\n",
       "      <td>0</td>\n",
       "      <td>0</td>\n",
       "      <td>1</td>\n",
       "      <td>0</td>\n",
       "      <td>0</td>\n",
       "      <td>1</td>\n",
       "      <td>1</td>\n",
       "      <td>0</td>\n",
       "      <td>0</td>\n",
       "      <td>0</td>\n",
       "      <td>1</td>\n",
       "      <td>0</td>\n",
       "      <td>1</td>\n",
       "      <td>0</td>\n",
       "      <td>1</td>\n",
       "      <td>0</td>\n",
       "    </tr>\n",
       "    <tr>\n",
       "      <th>4</th>\n",
       "      <td>24</td>\n",
       "      <td>4870</td>\n",
       "      <td>3</td>\n",
       "      <td>4</td>\n",
       "      <td>53</td>\n",
       "      <td>2</td>\n",
       "      <td>2</td>\n",
       "      <td>0</td>\n",
       "      <td>1</td>\n",
       "      <td>0</td>\n",
       "      <td>0</td>\n",
       "      <td>0</td>\n",
       "      <td>0</td>\n",
       "      <td>0</td>\n",
       "      <td>1</td>\n",
       "      <td>0</td>\n",
       "      <td>0</td>\n",
       "      <td>0</td>\n",
       "      <td>0</td>\n",
       "      <td>0</td>\n",
       "      <td>0</td>\n",
       "      <td>0</td>\n",
       "      <td>0</td>\n",
       "      <td>0</td>\n",
       "      <td>0</td>\n",
       "      <td>0</td>\n",
       "      <td>0</td>\n",
       "      <td>0</td>\n",
       "      <td>0</td>\n",
       "      <td>0</td>\n",
       "      <td>1</td>\n",
       "      <td>0</td>\n",
       "      <td>0</td>\n",
       "      <td>0</td>\n",
       "      <td>1</td>\n",
       "      <td>0</td>\n",
       "      <td>0</td>\n",
       "      <td>0</td>\n",
       "      <td>0</td>\n",
       "      <td>0</td>\n",
       "      <td>1</td>\n",
       "      <td>0</td>\n",
       "      <td>1</td>\n",
       "      <td>0</td>\n",
       "      <td>1</td>\n",
       "      <td>0</td>\n",
       "      <td>1</td>\n",
       "      <td>0</td>\n",
       "    </tr>\n",
       "  </tbody>\n",
       "</table>\n",
       "</div>"
      ],
      "text/plain": [
       "   0     1   2   3   4   5   6   7   8   9   10  11  12  13  14  15  16  17  \\\n",
       "0   6  1169   4   4  67   2   1   1   1   0   0   0   0   0   0   1   0   0   \n",
       "1  48  5951   2   2  22   1   1   0   1   1   0   0   0   1   0   0   0   0   \n",
       "2  12  2096   2   3  49   1   2   0   1   0   0   1   0   0   0   1   0   0   \n",
       "3  42  7882   2   4  45   1   2   0   1   0   0   0   0   1   0   0   0   0   \n",
       "4  24  4870   3   4  53   2   2   0   1   0   0   0   0   0   1   0   0   0   \n",
       "\n",
       "   18  19  20  21  22  23  24  25  26  27  28  29  30  31  32  33  34  35  36  \\\n",
       "0   0   1   0   0   0   0   0   0   0   0   1   0   0   0   1   0   1   0   0   \n",
       "1   0   1   0   0   0   0   0   0   0   0   0   0   1   0   0   1   0   0   0   \n",
       "2   0   0   0   0   1   0   0   0   0   0   0   0   0   1   0   0   1   0   0   \n",
       "3   1   0   0   0   0   0   0   0   0   0   0   0   0   1   0   0   1   0   0   \n",
       "4   0   0   0   0   0   0   0   0   0   0   0   0   1   0   0   0   1   0   0   \n",
       "\n",
       "   37  38  39  40  41  42  43  44  45  46  47  \n",
       "0   0   0   0   0   0   1   1   0   0   1   0  \n",
       "1   0   0   0   0   0   1   1   0   0   1   0  \n",
       "2   0   0   0   0   0   1   1   0   1   0   0  \n",
       "3   1   1   0   0   0   1   0   1   0   1   0  \n",
       "4   0   0   0   1   0   1   0   1   0   1   0  "
      ]
     },
     "execution_count": 41,
     "metadata": {},
     "output_type": "execute_result"
    }
   ],
   "source": [
    "# Convert feature matrix into DataFrame\n",
    "df=pd.DataFrame(X)\n",
    "# View the data frame\n",
    "df.head()"
   ]
  },
  {
   "cell_type": "code",
   "execution_count": 42,
   "metadata": {},
   "outputs": [
    {
     "data": {
      "text/plain": [
       "48"
      ]
     },
     "execution_count": 42,
     "metadata": {},
     "output_type": "execute_result"
    }
   ],
   "source": [
    "X.shape[1]"
   ]
  },
  {
   "cell_type": "code",
   "execution_count": 43,
   "metadata": {},
   "outputs": [
    {
     "name": "stdout",
     "output_type": "stream",
     "text": [
      "corr entre la colonne  40  et  44  corr= 0.7798526409663612  p_value= 2.921730603538456e-205\n"
     ]
    }
   ],
   "source": [
    "from scipy.stats import pearsonr\n",
    "L=[]\n",
    "L2=[]\n",
    "L3=[]\n",
    "L4=[]\n",
    "for i in range(X.shape[1]-1):\n",
    "    for j in range(i+1,X.shape[1]):\n",
    "        corr, p_value = pearsonr(X[:,i],X[:,j])\n",
    "        L.append(corr)\n",
    "        L2.append(p_value)\n",
    "        L3.append(i)\n",
    "        L4.append(j)\n",
    "for i in range(len(L)):\n",
    "    if L[i]>0.70:\n",
    "        print(\"corr entre la colonne \",L3[i],\" et \",L4[i],\" corr=\",L[i],\" p_value=\",L2[i])"
   ]
  },
  {
   "cell_type": "code",
   "execution_count": 44,
   "metadata": {},
   "outputs": [],
   "source": [
    "# Drop feature #44 = Housing_A153\n",
    "df.drop([44], axis=1, inplace=True)\n",
    "#NEW X \n",
    "X= df.iloc[:,:].values"
   ]
  },
  {
   "cell_type": "code",
   "execution_count": 45,
   "metadata": {},
   "outputs": [
    {
     "data": {
      "text/plain": [
       "(1000, 47)"
      ]
     },
     "execution_count": 45,
     "metadata": {},
     "output_type": "execute_result"
    }
   ],
   "source": [
    "X.shape"
   ]
  },
  {
   "cell_type": "markdown",
   "metadata": {},
   "source": [
    "- On a détecté que les deux variables 40 et 44 sont corrélés on a donc supprimé la colonne 44"
   ]
  },
  {
   "cell_type": "markdown",
   "metadata": {},
   "source": [
    "## **III) Dimensionality Reduction**"
   ]
  },
  {
   "cell_type": "markdown",
   "metadata": {},
   "source": [
    "### ACP"
   ]
  },
  {
   "cell_type": "code",
   "execution_count": 46,
   "metadata": {},
   "outputs": [
    {
     "data": {
      "text/html": [
       "<div>\n",
       "<style scoped>\n",
       "    .dataframe tbody tr th:only-of-type {\n",
       "        vertical-align: middle;\n",
       "    }\n",
       "\n",
       "    .dataframe tbody tr th {\n",
       "        vertical-align: top;\n",
       "    }\n",
       "\n",
       "    .dataframe thead th {\n",
       "        text-align: right;\n",
       "    }\n",
       "</style>\n",
       "<table border=\"1\" class=\"dataframe\">\n",
       "  <thead>\n",
       "    <tr style=\"text-align: right;\">\n",
       "      <th></th>\n",
       "      <th>Duration</th>\n",
       "      <th>Credit amount</th>\n",
       "      <th>Installment rate</th>\n",
       "      <th>Present residence since</th>\n",
       "      <th>Age in years</th>\n",
       "      <th>Number of existing credits</th>\n",
       "      <th>Number of people being liable to provide maintenance for</th>\n",
       "    </tr>\n",
       "  </thead>\n",
       "  <tbody>\n",
       "    <tr>\n",
       "      <th>0</th>\n",
       "      <td>6</td>\n",
       "      <td>1169</td>\n",
       "      <td>4</td>\n",
       "      <td>4</td>\n",
       "      <td>67</td>\n",
       "      <td>2</td>\n",
       "      <td>1</td>\n",
       "    </tr>\n",
       "    <tr>\n",
       "      <th>1</th>\n",
       "      <td>48</td>\n",
       "      <td>5951</td>\n",
       "      <td>2</td>\n",
       "      <td>2</td>\n",
       "      <td>22</td>\n",
       "      <td>1</td>\n",
       "      <td>1</td>\n",
       "    </tr>\n",
       "    <tr>\n",
       "      <th>2</th>\n",
       "      <td>12</td>\n",
       "      <td>2096</td>\n",
       "      <td>2</td>\n",
       "      <td>3</td>\n",
       "      <td>49</td>\n",
       "      <td>1</td>\n",
       "      <td>2</td>\n",
       "    </tr>\n",
       "    <tr>\n",
       "      <th>3</th>\n",
       "      <td>42</td>\n",
       "      <td>7882</td>\n",
       "      <td>2</td>\n",
       "      <td>4</td>\n",
       "      <td>45</td>\n",
       "      <td>1</td>\n",
       "      <td>2</td>\n",
       "    </tr>\n",
       "    <tr>\n",
       "      <th>4</th>\n",
       "      <td>24</td>\n",
       "      <td>4870</td>\n",
       "      <td>3</td>\n",
       "      <td>4</td>\n",
       "      <td>53</td>\n",
       "      <td>2</td>\n",
       "      <td>2</td>\n",
       "    </tr>\n",
       "  </tbody>\n",
       "</table>\n",
       "</div>"
      ],
      "text/plain": [
       "   Duration  Credit amount  Installment rate  Present residence since  \\\n",
       "0         6           1169                 4                        4   \n",
       "1        48           5951                 2                        2   \n",
       "2        12           2096                 2                        3   \n",
       "3        42           7882                 2                        4   \n",
       "4        24           4870                 3                        4   \n",
       "\n",
       "   Age in years  Number of existing credits  \\\n",
       "0            67                           2   \n",
       "1            22                           1   \n",
       "2            49                           1   \n",
       "3            45                           1   \n",
       "4            53                           2   \n",
       "\n",
       "   Number of people being liable to provide maintenance for  \n",
       "0                                                  1         \n",
       "1                                                  1         \n",
       "2                                                  2         \n",
       "3                                                  2         \n",
       "4                                                  2         "
      ]
     },
     "execution_count": 46,
     "metadata": {},
     "output_type": "execute_result"
    }
   ],
   "source": [
    "#Variables quanti afin de réaliser une ACP \n",
    "Quanti=data_dummied.iloc[:,0:7]\n",
    "Quanti=pd.DataFrame(Quanti)\n",
    "Quanti.head()"
   ]
  },
  {
   "cell_type": "code",
   "execution_count": 47,
   "metadata": {},
   "outputs": [],
   "source": [
    "# Rescaling avec Standardscaler (valeur moyenne et écart-type)\n",
    "from sklearn.preprocessing import StandardScaler\n",
    "StandardScaler = StandardScaler()\n",
    "\n",
    "Quanti=pd.DataFrame(StandardScaler.fit_transform(Quanti.values),columns=Quanti.columns)"
   ]
  },
  {
   "cell_type": "code",
   "execution_count": 48,
   "metadata": {},
   "outputs": [
    {
     "data": {
      "text/plain": [
       "array([0.23697183, 0.20179308, 0.15974033, 0.1341607 , 0.12402952,\n",
       "       0.1029517 , 0.04035283])"
      ]
     },
     "execution_count": 48,
     "metadata": {},
     "output_type": "execute_result"
    }
   ],
   "source": [
    "from sklearn import decomposition\n",
    "from sklearn.decomposition import PCA\n",
    "\n",
    "pca = decomposition.PCA()\n",
    "Data_Pca = pca.fit_transform(Quanti)\n",
    "pca.explained_variance_ratio_"
   ]
  },
  {
   "cell_type": "code",
   "execution_count": 49,
   "metadata": {},
   "outputs": [
    {
     "data": {
      "text/plain": [
       "1.0"
      ]
     },
     "execution_count": 49,
     "metadata": {},
     "output_type": "execute_result"
    }
   ],
   "source": [
    "pca.explained_variance_ratio_.sum()"
   ]
  },
  {
   "cell_type": "code",
   "execution_count": 50,
   "metadata": {},
   "outputs": [
    {
     "name": "stdout",
     "output_type": "stream",
     "text": [
      "7\n"
     ]
    }
   ],
   "source": [
    "print(pca.n_components_)"
   ]
  },
  {
   "cell_type": "code",
   "execution_count": 51,
   "metadata": {},
   "outputs": [
    {
     "data": {
      "text/plain": [
       "array([1.66046326, 1.41396555, 1.11930163, 0.94006493, 0.86907573,\n",
       "       0.72138331, 0.28275259])"
      ]
     },
     "execution_count": 51,
     "metadata": {},
     "output_type": "execute_result"
    }
   ],
   "source": [
    "var = pca.explained_variance_\n",
    "var"
   ]
  },
  {
   "cell_type": "code",
   "execution_count": 52,
   "metadata": {},
   "outputs": [
    {
     "data": {
      "image/png": "[encoded data removed]",
      "text/plain": [
       "<Figure size 432x288 with 1 Axes>"
      ]
     },
     "metadata": {
      "needs_background": "light"
     },
     "output_type": "display_data"
    }
   ],
   "source": [
    "p = Quanti.shape[1]\n",
    "\n",
    "plt.plot(np.arange(1,p+1),var)\n",
    "plt.title(\"Scree plot\")\n",
    "plt.ylabel(\"Eigen values\")\n",
    "plt.xlabel(\"Factor number\")\n",
    "plt.show()"
   ]
  },
  {
   "cell_type": "markdown",
   "metadata": {},
   "source": [
    "- Selon le critére de Coud, on retient 3 dimensions"
   ]
  },
  {
   "cell_type": "code",
   "execution_count": 53,
   "metadata": {},
   "outputs": [
    {
     "data": {
      "image/png": "[encoded data removed]",
      "text/plain": [
       "<Figure size 432x288 with 1 Axes>"
      ]
     },
     "metadata": {
      "needs_background": "light"
     },
     "output_type": "display_data"
    }
   ],
   "source": [
    "#cumul de variance expliquée\n",
    "plt.plot(np.arange(1,p+1),np.cumsum(pca.explained_variance_ratio_))\n",
    "plt.title(\"Explained variance vs. # of factors\")\n",
    "plt.ylabel(\"Cumsum explained variance ratio\")\n",
    "plt.xlabel(\"Factor number\")\n",
    "plt.show()\n"
   ]
  },
  {
   "cell_type": "code",
   "execution_count": 54,
   "metadata": {},
   "outputs": [
    {
     "name": "stdout",
     "output_type": "stream",
     "text": [
      "   Val.Propre\n",
      "0    1.660463\n",
      "1    1.413966\n",
      "2    1.119302\n",
      "3    0.940065\n",
      "4    0.869076\n",
      "5    0.721383\n",
      "6    0.282753\n"
     ]
    }
   ],
   "source": [
    "print(pd.DataFrame({'Val.Propre':var}))"
   ]
  },
  {
   "cell_type": "markdown",
   "metadata": {},
   "source": [
    "- On remarque que l'on a 3 composantes principales (d'après le critère de kaiser)"
   ]
  },
  {
   "cell_type": "code",
   "execution_count": 57,
   "metadata": {},
   "outputs": [
    {
     "data": {
      "image/png": "[encoded data removed]",
      "text/plain": [
       "<Figure size 720x720 with 1 Axes>"
      ]
     },
     "metadata": {
      "needs_background": "light"
     },
     "output_type": "display_data"
    }
   ],
   "source": [
    "from mlxtend.plotting import plot_pca_correlation_graph\n",
    "feature_names=['Duration','Credit_amt','Installment rate','Residence since','Age','Credits nb','People nb']\n",
    "figure, correlation_matrix = plot_pca_correlation_graph(Quanti, \n",
    "                                                        feature_names,\n",
    "                                                        dimensions=(1, 2),\n",
    "                                                        figure_axis_size=10)\n"
   ]
  },
  {
   "cell_type": "code",
   "execution_count": 58,
   "metadata": {},
   "outputs": [
    {
     "data": {
      "image/png": "[encoded data removed]",
      "text/plain": [
       "<Figure size 720x720 with 1 Axes>"
      ]
     },
     "metadata": {
      "needs_background": "light"
     },
     "output_type": "display_data"
    }
   ],
   "source": [
    "from mlxtend.plotting import plot_pca_correlation_graph\n",
    "feature_names=['Duration','Credit_amt','Installment rate','Residence since','Age','Credits nb','People nb']\n",
    "figure, correlation_matrix2 = plot_pca_correlation_graph(Quanti, \n",
    "                                                        feature_names,\n",
    "                                                        dimensions=(2,3),\n",
    "                                                        figure_axis_size=10)\n"
   ]
  },
  {
   "cell_type": "code",
   "execution_count": 59,
   "metadata": {},
   "outputs": [],
   "source": [
    "principalDf = pd.DataFrame(Data_Pca[:,0:3]\n",
    "             , columns = ['principal component 1', \n",
    "                          'principal component 2',\n",
    "                         'principal component 3'])"
   ]
  },
  {
   "cell_type": "code",
   "execution_count": 60,
   "metadata": {},
   "outputs": [
    {
     "data": {
      "text/html": [
       "<div>\n",
       "<style scoped>\n",
       "    .dataframe tbody tr th:only-of-type {\n",
       "        vertical-align: middle;\n",
       "    }\n",
       "\n",
       "    .dataframe tbody tr th {\n",
       "        vertical-align: top;\n",
       "    }\n",
       "\n",
       "    .dataframe thead th {\n",
       "        text-align: right;\n",
       "    }\n",
       "</style>\n",
       "<table border=\"1\" class=\"dataframe\">\n",
       "  <thead>\n",
       "    <tr style=\"text-align: right;\">\n",
       "      <th></th>\n",
       "      <th>principal component 1</th>\n",
       "      <th>principal component 2</th>\n",
       "      <th>principal component 3</th>\n",
       "    </tr>\n",
       "  </thead>\n",
       "  <tbody>\n",
       "    <tr>\n",
       "      <th>0</th>\n",
       "      <td>-1.438189</td>\n",
       "      <td>2.763643</td>\n",
       "      <td>-0.802303</td>\n",
       "    </tr>\n",
       "    <tr>\n",
       "      <th>1</th>\n",
       "      <td>2.260842</td>\n",
       "      <td>-1.807829</td>\n",
       "      <td>-0.092291</td>\n",
       "    </tr>\n",
       "    <tr>\n",
       "      <th>2</th>\n",
       "      <td>-0.518687</td>\n",
       "      <td>1.208221</td>\n",
       "      <td>1.864906</td>\n",
       "    </tr>\n",
       "    <tr>\n",
       "      <th>3</th>\n",
       "      <td>2.638944</td>\n",
       "      <td>1.363089</td>\n",
       "      <td>1.015996</td>\n",
       "    </tr>\n",
       "    <tr>\n",
       "      <th>4</th>\n",
       "      <td>0.740745</td>\n",
       "      <td>2.735646</td>\n",
       "      <td>0.966980</td>\n",
       "    </tr>\n",
       "    <tr>\n",
       "      <th>5</th>\n",
       "      <td>2.597898</td>\n",
       "      <td>0.828829</td>\n",
       "      <td>1.249621</td>\n",
       "    </tr>\n",
       "    <tr>\n",
       "      <th>6</th>\n",
       "      <td>0.110081</td>\n",
       "      <td>1.068031</td>\n",
       "      <td>-0.751702</td>\n",
       "    </tr>\n",
       "    <tr>\n",
       "      <th>7</th>\n",
       "      <td>1.876095</td>\n",
       "      <td>-1.062577</td>\n",
       "      <td>0.179742</td>\n",
       "    </tr>\n",
       "    <tr>\n",
       "      <th>8</th>\n",
       "      <td>-0.282761</td>\n",
       "      <td>1.435684</td>\n",
       "      <td>0.195508</td>\n",
       "    </tr>\n",
       "    <tr>\n",
       "      <th>9</th>\n",
       "      <td>0.749443</td>\n",
       "      <td>-0.447633</td>\n",
       "      <td>-0.748739</td>\n",
       "    </tr>\n",
       "    <tr>\n",
       "      <th>10</th>\n",
       "      <td>-1.132476</td>\n",
       "      <td>-1.896749</td>\n",
       "      <td>0.277501</td>\n",
       "    </tr>\n",
       "    <tr>\n",
       "      <th>11</th>\n",
       "      <td>1.758185</td>\n",
       "      <td>-0.601488</td>\n",
       "      <td>-1.206753</td>\n",
       "    </tr>\n",
       "    <tr>\n",
       "      <th>12</th>\n",
       "      <td>-0.677385</td>\n",
       "      <td>-2.276097</td>\n",
       "      <td>1.631283</td>\n",
       "    </tr>\n",
       "    <tr>\n",
       "      <th>13</th>\n",
       "      <td>-0.457452</td>\n",
       "      <td>2.324197</td>\n",
       "      <td>-1.240902</td>\n",
       "    </tr>\n",
       "    <tr>\n",
       "      <th>14</th>\n",
       "      <td>-0.581217</td>\n",
       "      <td>-0.374690</td>\n",
       "      <td>0.247599</td>\n",
       "    </tr>\n",
       "    <tr>\n",
       "      <th>15</th>\n",
       "      <td>-0.613569</td>\n",
       "      <td>-0.951990</td>\n",
       "      <td>-0.942349</td>\n",
       "    </tr>\n",
       "    <tr>\n",
       "      <th>16</th>\n",
       "      <td>-0.154328</td>\n",
       "      <td>1.935491</td>\n",
       "      <td>-1.179485</td>\n",
       "    </tr>\n",
       "    <tr>\n",
       "      <th>17</th>\n",
       "      <td>1.946405</td>\n",
       "      <td>0.412441</td>\n",
       "      <td>0.705656</td>\n",
       "    </tr>\n",
       "    <tr>\n",
       "      <th>18</th>\n",
       "      <td>2.276145</td>\n",
       "      <td>-0.342234</td>\n",
       "      <td>-0.762151</td>\n",
       "    </tr>\n",
       "    <tr>\n",
       "      <th>19</th>\n",
       "      <td>0.204435</td>\n",
       "      <td>-0.205366</td>\n",
       "      <td>1.202811</td>\n",
       "    </tr>\n",
       "    <tr>\n",
       "      <th>20</th>\n",
       "      <td>-1.017425</td>\n",
       "      <td>2.468066</td>\n",
       "      <td>-0.517583</td>\n",
       "    </tr>\n",
       "    <tr>\n",
       "      <th>21</th>\n",
       "      <td>-0.711866</td>\n",
       "      <td>0.950540</td>\n",
       "      <td>2.060054</td>\n",
       "    </tr>\n",
       "    <tr>\n",
       "      <th>22</th>\n",
       "      <td>-0.362349</td>\n",
       "      <td>1.810912</td>\n",
       "      <td>2.839595</td>\n",
       "    </tr>\n",
       "    <tr>\n",
       "      <th>23</th>\n",
       "      <td>-0.817864</td>\n",
       "      <td>0.616469</td>\n",
       "      <td>-0.411904</td>\n",
       "    </tr>\n",
       "    <tr>\n",
       "      <th>24</th>\n",
       "      <td>-0.813602</td>\n",
       "      <td>-1.187136</td>\n",
       "      <td>1.255504</td>\n",
       "    </tr>\n",
       "    <tr>\n",
       "      <th>25</th>\n",
       "      <td>-0.982606</td>\n",
       "      <td>-0.998172</td>\n",
       "      <td>1.513261</td>\n",
       "    </tr>\n",
       "    <tr>\n",
       "      <th>26</th>\n",
       "      <td>-1.696729</td>\n",
       "      <td>0.473851</td>\n",
       "      <td>-0.924288</td>\n",
       "    </tr>\n",
       "    <tr>\n",
       "      <th>27</th>\n",
       "      <td>-1.194260</td>\n",
       "      <td>0.780139</td>\n",
       "      <td>0.017327</td>\n",
       "    </tr>\n",
       "    <tr>\n",
       "      <th>28</th>\n",
       "      <td>-1.055175</td>\n",
       "      <td>-0.901421</td>\n",
       "      <td>0.186318</td>\n",
       "    </tr>\n",
       "    <tr>\n",
       "      <th>29</th>\n",
       "      <td>3.139016</td>\n",
       "      <td>2.246260</td>\n",
       "      <td>-1.418588</td>\n",
       "    </tr>\n",
       "    <tr>\n",
       "      <th>...</th>\n",
       "      <td>...</td>\n",
       "      <td>...</td>\n",
       "      <td>...</td>\n",
       "    </tr>\n",
       "    <tr>\n",
       "      <th>970</th>\n",
       "      <td>-1.057708</td>\n",
       "      <td>-1.472976</td>\n",
       "      <td>-0.649684</td>\n",
       "    </tr>\n",
       "    <tr>\n",
       "      <th>971</th>\n",
       "      <td>1.725095</td>\n",
       "      <td>1.204449</td>\n",
       "      <td>2.156641</td>\n",
       "    </tr>\n",
       "    <tr>\n",
       "      <th>972</th>\n",
       "      <td>0.087185</td>\n",
       "      <td>0.304987</td>\n",
       "      <td>0.914631</td>\n",
       "    </tr>\n",
       "    <tr>\n",
       "      <th>973</th>\n",
       "      <td>2.993327</td>\n",
       "      <td>0.113087</td>\n",
       "      <td>-2.186387</td>\n",
       "    </tr>\n",
       "    <tr>\n",
       "      <th>974</th>\n",
       "      <td>0.109104</td>\n",
       "      <td>-0.922340</td>\n",
       "      <td>-1.072569</td>\n",
       "    </tr>\n",
       "    <tr>\n",
       "      <th>975</th>\n",
       "      <td>-0.340209</td>\n",
       "      <td>0.802401</td>\n",
       "      <td>-0.604017</td>\n",
       "    </tr>\n",
       "    <tr>\n",
       "      <th>976</th>\n",
       "      <td>-1.247044</td>\n",
       "      <td>1.136939</td>\n",
       "      <td>0.490886</td>\n",
       "    </tr>\n",
       "    <tr>\n",
       "      <th>977</th>\n",
       "      <td>-0.602139</td>\n",
       "      <td>0.368479</td>\n",
       "      <td>-0.562812</td>\n",
       "    </tr>\n",
       "    <tr>\n",
       "      <th>978</th>\n",
       "      <td>-0.054891</td>\n",
       "      <td>2.523672</td>\n",
       "      <td>0.281128</td>\n",
       "    </tr>\n",
       "    <tr>\n",
       "      <th>979</th>\n",
       "      <td>-0.728069</td>\n",
       "      <td>-1.521378</td>\n",
       "      <td>0.662707</td>\n",
       "    </tr>\n",
       "    <tr>\n",
       "      <th>980</th>\n",
       "      <td>1.932049</td>\n",
       "      <td>-0.282995</td>\n",
       "      <td>0.297944</td>\n",
       "    </tr>\n",
       "    <tr>\n",
       "      <th>981</th>\n",
       "      <td>1.797892</td>\n",
       "      <td>-1.093547</td>\n",
       "      <td>-0.837797</td>\n",
       "    </tr>\n",
       "    <tr>\n",
       "      <th>982</th>\n",
       "      <td>0.165951</td>\n",
       "      <td>-1.980980</td>\n",
       "      <td>1.392636</td>\n",
       "    </tr>\n",
       "    <tr>\n",
       "      <th>983</th>\n",
       "      <td>2.268823</td>\n",
       "      <td>-0.643697</td>\n",
       "      <td>1.680357</td>\n",
       "    </tr>\n",
       "    <tr>\n",
       "      <th>984</th>\n",
       "      <td>-0.001653</td>\n",
       "      <td>-0.519741</td>\n",
       "      <td>0.663890</td>\n",
       "    </tr>\n",
       "    <tr>\n",
       "      <th>985</th>\n",
       "      <td>-0.985767</td>\n",
       "      <td>-0.058002</td>\n",
       "      <td>-0.620612</td>\n",
       "    </tr>\n",
       "    <tr>\n",
       "      <th>986</th>\n",
       "      <td>2.014242</td>\n",
       "      <td>-0.920614</td>\n",
       "      <td>0.466473</td>\n",
       "    </tr>\n",
       "    <tr>\n",
       "      <th>987</th>\n",
       "      <td>-0.644428</td>\n",
       "      <td>1.603925</td>\n",
       "      <td>0.118850</td>\n",
       "    </tr>\n",
       "    <tr>\n",
       "      <th>988</th>\n",
       "      <td>0.730750</td>\n",
       "      <td>-1.138737</td>\n",
       "      <td>-0.814339</td>\n",
       "    </tr>\n",
       "    <tr>\n",
       "      <th>989</th>\n",
       "      <td>-0.441576</td>\n",
       "      <td>0.681513</td>\n",
       "      <td>-0.765838</td>\n",
       "    </tr>\n",
       "    <tr>\n",
       "      <th>990</th>\n",
       "      <td>-0.232444</td>\n",
       "      <td>0.320439</td>\n",
       "      <td>2.607081</td>\n",
       "    </tr>\n",
       "    <tr>\n",
       "      <th>991</th>\n",
       "      <td>-0.843331</td>\n",
       "      <td>1.084580</td>\n",
       "      <td>0.315933</td>\n",
       "    </tr>\n",
       "    <tr>\n",
       "      <th>992</th>\n",
       "      <td>-0.253146</td>\n",
       "      <td>0.098619</td>\n",
       "      <td>0.452488</td>\n",
       "    </tr>\n",
       "    <tr>\n",
       "      <th>993</th>\n",
       "      <td>0.773602</td>\n",
       "      <td>-0.618619</td>\n",
       "      <td>-1.393049</td>\n",
       "    </tr>\n",
       "    <tr>\n",
       "      <th>994</th>\n",
       "      <td>-0.910018</td>\n",
       "      <td>0.558196</td>\n",
       "      <td>-0.894642</td>\n",
       "    </tr>\n",
       "    <tr>\n",
       "      <th>995</th>\n",
       "      <td>-0.851181</td>\n",
       "      <td>-0.095514</td>\n",
       "      <td>-0.347773</td>\n",
       "    </tr>\n",
       "    <tr>\n",
       "      <th>996</th>\n",
       "      <td>0.486612</td>\n",
       "      <td>0.439761</td>\n",
       "      <td>-1.488953</td>\n",
       "    </tr>\n",
       "    <tr>\n",
       "      <th>997</th>\n",
       "      <td>-1.274523</td>\n",
       "      <td>0.398868</td>\n",
       "      <td>-1.069372</td>\n",
       "    </tr>\n",
       "    <tr>\n",
       "      <th>998</th>\n",
       "      <td>0.771750</td>\n",
       "      <td>-0.529660</td>\n",
       "      <td>-1.841528</td>\n",
       "    </tr>\n",
       "    <tr>\n",
       "      <th>999</th>\n",
       "      <td>1.666462</td>\n",
       "      <td>-0.428952</td>\n",
       "      <td>-1.137084</td>\n",
       "    </tr>\n",
       "  </tbody>\n",
       "</table>\n",
       "<p>1000 rows × 3 columns</p>\n",
       "</div>"
      ],
      "text/plain": [
       "     principal component 1  principal component 2  principal component 3\n",
       "0                -1.438189               2.763643              -0.802303\n",
       "1                 2.260842              -1.807829              -0.092291\n",
       "2                -0.518687               1.208221               1.864906\n",
       "3                 2.638944               1.363089               1.015996\n",
       "4                 0.740745               2.735646               0.966980\n",
       "5                 2.597898               0.828829               1.249621\n",
       "6                 0.110081               1.068031              -0.751702\n",
       "7                 1.876095              -1.062577               0.179742\n",
       "8                -0.282761               1.435684               0.195508\n",
       "9                 0.749443              -0.447633              -0.748739\n",
       "10               -1.132476              -1.896749               0.277501\n",
       "11                1.758185              -0.601488              -1.206753\n",
       "12               -0.677385              -2.276097               1.631283\n",
       "13               -0.457452               2.324197              -1.240902\n",
       "14               -0.581217              -0.374690               0.247599\n",
       "15               -0.613569              -0.951990              -0.942349\n",
       "16               -0.154328               1.935491              -1.179485\n",
       "17                1.946405               0.412441               0.705656\n",
       "18                2.276145              -0.342234              -0.762151\n",
       "19                0.204435              -0.205366               1.202811\n",
       "20               -1.017425               2.468066              -0.517583\n",
       "21               -0.711866               0.950540               2.060054\n",
       "22               -0.362349               1.810912               2.839595\n",
       "23               -0.817864               0.616469              -0.411904\n",
       "24               -0.813602              -1.187136               1.255504\n",
       "25               -0.982606              -0.998172               1.513261\n",
       "26               -1.696729               0.473851              -0.924288\n",
       "27               -1.194260               0.780139               0.017327\n",
       "28               -1.055175              -0.901421               0.186318\n",
       "29                3.139016               2.246260              -1.418588\n",
       "..                     ...                    ...                    ...\n",
       "970              -1.057708              -1.472976              -0.649684\n",
       "971               1.725095               1.204449               2.156641\n",
       "972               0.087185               0.304987               0.914631\n",
       "973               2.993327               0.113087              -2.186387\n",
       "974               0.109104              -0.922340              -1.072569\n",
       "975              -0.340209               0.802401              -0.604017\n",
       "976              -1.247044               1.136939               0.490886\n",
       "977              -0.602139               0.368479              -0.562812\n",
       "978              -0.054891               2.523672               0.281128\n",
       "979              -0.728069              -1.521378               0.662707\n",
       "980               1.932049              -0.282995               0.297944\n",
       "981               1.797892              -1.093547              -0.837797\n",
       "982               0.165951              -1.980980               1.392636\n",
       "983               2.268823              -0.643697               1.680357\n",
       "984              -0.001653              -0.519741               0.663890\n",
       "985              -0.985767              -0.058002              -0.620612\n",
       "986               2.014242              -0.920614               0.466473\n",
       "987              -0.644428               1.603925               0.118850\n",
       "988               0.730750              -1.138737              -0.814339\n",
       "989              -0.441576               0.681513              -0.765838\n",
       "990              -0.232444               0.320439               2.607081\n",
       "991              -0.843331               1.084580               0.315933\n",
       "992              -0.253146               0.098619               0.452488\n",
       "993               0.773602              -0.618619              -1.393049\n",
       "994              -0.910018               0.558196              -0.894642\n",
       "995              -0.851181              -0.095514              -0.347773\n",
       "996               0.486612               0.439761              -1.488953\n",
       "997              -1.274523               0.398868              -1.069372\n",
       "998               0.771750              -0.529660              -1.841528\n",
       "999               1.666462              -0.428952              -1.137084\n",
       "\n",
       "[1000 rows x 3 columns]"
      ]
     },
     "execution_count": 60,
     "metadata": {},
     "output_type": "execute_result"
    }
   ],
   "source": [
    "principalDf"
   ]
  },
  {
   "cell_type": "code",
   "execution_count": 61,
   "metadata": {},
   "outputs": [
    {
     "data": {
      "text/html": [
       "<div>\n",
       "<style scoped>\n",
       "    .dataframe tbody tr th:only-of-type {\n",
       "        vertical-align: middle;\n",
       "    }\n",
       "\n",
       "    .dataframe tbody tr th {\n",
       "        vertical-align: top;\n",
       "    }\n",
       "\n",
       "    .dataframe thead th {\n",
       "        text-align: right;\n",
       "    }\n",
       "</style>\n",
       "<table border=\"1\" class=\"dataframe\">\n",
       "  <thead>\n",
       "    <tr style=\"text-align: right;\">\n",
       "      <th></th>\n",
       "      <th>Dim 1</th>\n",
       "      <th>Dim 2</th>\n",
       "    </tr>\n",
       "  </thead>\n",
       "  <tbody>\n",
       "    <tr>\n",
       "      <th>Duration</th>\n",
       "      <td>-0.846646</td>\n",
       "      <td>0.044398</td>\n",
       "    </tr>\n",
       "    <tr>\n",
       "      <th>Credit_amt</th>\n",
       "      <td>-0.924730</td>\n",
       "      <td>0.014166</td>\n",
       "    </tr>\n",
       "    <tr>\n",
       "      <th>Installment rate</th>\n",
       "      <td>0.280511</td>\n",
       "      <td>-0.142082</td>\n",
       "    </tr>\n",
       "    <tr>\n",
       "      <th>Residence since</th>\n",
       "      <td>-0.076570</td>\n",
       "      <td>-0.644354</td>\n",
       "    </tr>\n",
       "    <tr>\n",
       "      <th>Age</th>\n",
       "      <td>-0.018037</td>\n",
       "      <td>-0.740382</td>\n",
       "    </tr>\n",
       "    <tr>\n",
       "      <th>Credits nb</th>\n",
       "      <td>-0.026002</td>\n",
       "      <td>-0.520698</td>\n",
       "    </tr>\n",
       "    <tr>\n",
       "      <th>People nb</th>\n",
       "      <td>-0.036271</td>\n",
       "      <td>-0.394599</td>\n",
       "    </tr>\n",
       "  </tbody>\n",
       "</table>\n",
       "</div>"
      ],
      "text/plain": [
       "                     Dim 1     Dim 2\n",
       "Duration         -0.846646  0.044398\n",
       "Credit_amt       -0.924730  0.014166\n",
       "Installment rate  0.280511 -0.142082\n",
       "Residence since  -0.076570 -0.644354\n",
       "Age              -0.018037 -0.740382\n",
       "Credits nb       -0.026002 -0.520698\n",
       "People nb        -0.036271 -0.394599"
      ]
     },
     "execution_count": 61,
     "metadata": {},
     "output_type": "execute_result"
    }
   ],
   "source": [
    "correlation_matrix"
   ]
  },
  {
   "cell_type": "code",
   "execution_count": 62,
   "metadata": {},
   "outputs": [
    {
     "data": {
      "text/html": [
       "<div>\n",
       "<style scoped>\n",
       "    .dataframe tbody tr th:only-of-type {\n",
       "        vertical-align: middle;\n",
       "    }\n",
       "\n",
       "    .dataframe tbody tr th {\n",
       "        vertical-align: top;\n",
       "    }\n",
       "\n",
       "    .dataframe thead th {\n",
       "        text-align: right;\n",
       "    }\n",
       "</style>\n",
       "<table border=\"1\" class=\"dataframe\">\n",
       "  <thead>\n",
       "    <tr style=\"text-align: right;\">\n",
       "      <th></th>\n",
       "      <th>Dim 1</th>\n",
       "      <th>Dim 2</th>\n",
       "      <th>Dim 3</th>\n",
       "    </tr>\n",
       "  </thead>\n",
       "  <tbody>\n",
       "    <tr>\n",
       "      <th>Duration</th>\n",
       "      <td>-0.846646</td>\n",
       "      <td>0.044398</td>\n",
       "      <td>0.336011</td>\n",
       "    </tr>\n",
       "    <tr>\n",
       "      <th>Credit_amt</th>\n",
       "      <td>-0.924730</td>\n",
       "      <td>0.014166</td>\n",
       "      <td>-0.063574</td>\n",
       "    </tr>\n",
       "    <tr>\n",
       "      <th>Installment rate</th>\n",
       "      <td>0.280511</td>\n",
       "      <td>-0.142082</td>\n",
       "      <td>0.787971</td>\n",
       "    </tr>\n",
       "    <tr>\n",
       "      <th>Residence since</th>\n",
       "      <td>-0.076570</td>\n",
       "      <td>-0.644354</td>\n",
       "      <td>0.235019</td>\n",
       "    </tr>\n",
       "    <tr>\n",
       "      <th>Age</th>\n",
       "      <td>-0.018037</td>\n",
       "      <td>-0.740382</td>\n",
       "      <td>0.060650</td>\n",
       "    </tr>\n",
       "    <tr>\n",
       "      <th>Credits nb</th>\n",
       "      <td>-0.026002</td>\n",
       "      <td>-0.520698</td>\n",
       "      <td>-0.151045</td>\n",
       "    </tr>\n",
       "    <tr>\n",
       "      <th>People nb</th>\n",
       "      <td>-0.036271</td>\n",
       "      <td>-0.394599</td>\n",
       "      <td>-0.546454</td>\n",
       "    </tr>\n",
       "  </tbody>\n",
       "</table>\n",
       "</div>"
      ],
      "text/plain": [
       "                     Dim 1     Dim 2     Dim 3\n",
       "Duration         -0.846646  0.044398  0.336011\n",
       "Credit_amt       -0.924730  0.014166 -0.063574\n",
       "Installment rate  0.280511 -0.142082  0.787971\n",
       "Residence since  -0.076570 -0.644354  0.235019\n",
       "Age              -0.018037 -0.740382  0.060650\n",
       "Credits nb       -0.026002 -0.520698 -0.151045\n",
       "People nb        -0.036271 -0.394599 -0.546454"
      ]
     },
     "execution_count": 62,
     "metadata": {},
     "output_type": "execute_result"
    }
   ],
   "source": [
    "correlation_matrix2"
   ]
  },
  {
   "cell_type": "markdown",
   "metadata": {},
   "source": [
    "- Duration et credit_amt sont très negativement correlées avec la 1ere dim \n",
    "- Age est negativement corrélée avec la 2eme dimension\n",
    "- Installment rate est correlée avec la 3eme dim\n"
   ]
  },
  {
   "cell_type": "markdown",
   "metadata": {},
   "source": [
    "## **IV) Model creation**"
   ]
  },
  {
   "cell_type": "markdown",
   "metadata": {},
   "source": [
    "### **Non supervised learning algorithms**"
   ]
  },
  {
   "cell_type": "markdown",
   "metadata": {},
   "source": [
    "### 1)KMEANS ( méthode de partitionnement) :"
   ]
  },
  {
   "cell_type": "code",
   "execution_count": 57,
   "metadata": {},
   "outputs": [],
   "source": [
    "SansLabels=data_dummied.drop(columns=(['RESULT']));\n",
    "#Labels\n",
    "Labels=y"
   ]
  },
  {
   "cell_type": "code",
   "execution_count": 58,
   "metadata": {},
   "outputs": [],
   "source": [
    "from sklearn.cluster import KMeans\n",
    "from sklearn.neighbors import KNeighborsClassifier\n",
    "\n",
    "\n",
    "\n",
    "res=[]\n",
    "for i in range(1, 10):\n",
    "    kmeans = KMeans(n_clusters=i, init=\"k-means++\", max_iter=300, n_init=10, random_state=0)\n",
    "    kmeans.fit(SansLabels)\n",
    "    res.append(kmeans.inertia_)"
   ]
  },
  {
   "cell_type": "code",
   "execution_count": 59,
   "metadata": {},
   "outputs": [
    {
     "data": {
      "image/png": "[encoded data removed]",
      "text/plain": [
       "<Figure size 432x288 with 1 Axes>"
      ]
     },
     "metadata": {
      "needs_background": "light"
     },
     "output_type": "display_data"
    }
   ],
   "source": [
    "plt.plot(range(1, 10), res)\n",
    "plt.title(\"Elbow Method\")\n",
    "plt.xlabel(\"Number of clusters\")\n",
    "plt.ylabel(\"res\")\n",
    "plt.show()"
   ]
  },
  {
   "cell_type": "markdown",
   "metadata": {},
   "source": [
    "- En utilisant la  méthode \"Elbow\"==>Le nombre de cluster est égal  à 2"
   ]
  },
  {
   "cell_type": "code",
   "execution_count": 60,
   "metadata": {},
   "outputs": [
    {
     "data": {
      "text/plain": [
       "KMeans(algorithm='auto', copy_x=True, init='k-means++', max_iter=300,\n",
       "       n_clusters=2, n_init=10, n_jobs=None, precompute_distances='auto',\n",
       "       random_state=None, tol=0.0001, verbose=0)"
      ]
     },
     "execution_count": 60,
     "metadata": {},
     "output_type": "execute_result"
    }
   ],
   "source": [
    "kmeans = KMeans(n_clusters = 2)\n",
    "kmeans.fit(SansLabels)"
   ]
  },
  {
   "cell_type": "code",
   "execution_count": 61,
   "metadata": {},
   "outputs": [
    {
     "data": {
      "text/plain": [
       "0.05160461123028216"
      ]
     },
     "execution_count": 61,
     "metadata": {},
     "output_type": "execute_result"
    }
   ],
   "source": [
    "from sklearn import metrics\n",
    "metrics.adjusted_rand_score(Labels,kmeans.labels_)"
   ]
  },
  {
   "cell_type": "markdown",
   "metadata": {},
   "source": [
    "### Interprétation:\n",
    "- le score du tableau croisé est trés faible, Donc On ne va pas  pouvoir l'utiliser pour  interpréter la variable Cible \"BAD\" avec les clusters\n",
    "- ==> on va se contenter d'utliser le profiling des variables synthétiques"
   ]
  },
  {
   "cell_type": "code",
   "execution_count": 62,
   "metadata": {},
   "outputs": [
    {
     "data": {
      "image/png": "[encoded data removed]",
      "text/plain": [
       "<Figure size 432x288 with 1 Axes>"
      ]
     },
     "metadata": {
      "needs_background": "light"
     },
     "output_type": "display_data"
    }
   ],
   "source": [
    "sns.boxplot(x=kmeans.labels_, y=\"Duration\", data=data, palette=\"Set1\");"
   ]
  },
  {
   "cell_type": "markdown",
   "metadata": {},
   "source": [
    "- Interprétation :\n",
    "  - la variable \"Duration \" est significative , car dans le cluster0 sa valeur est entre 12  et 24 et dans le cluster1 , sa valeur est entre 27 et 48"
   ]
  },
  {
   "cell_type": "code",
   "execution_count": 63,
   "metadata": {},
   "outputs": [
    {
     "data": {
      "image/png": "[encoded data removed]",
      "text/plain": [
       "<Figure size 432x288 with 1 Axes>"
      ]
     },
     "metadata": {
      "needs_background": "light"
     },
     "output_type": "display_data"
    }
   ],
   "source": [
    "sns.boxplot(x=kmeans.labels_, y=\"Credit amount\", data=data, palette=\"Set1\");"
   ]
  },
  {
   "cell_type": "markdown",
   "metadata": {},
   "source": [
    "- Interprétation :\n",
    "  - la variable \"Credit amount \" est significative , car dans le cluster0 sa valeur est entre 1250 et 3000 et dans le cluster1 , sa valeur est entre 6500 et 9000"
   ]
  },
  {
   "cell_type": "code",
   "execution_count": 64,
   "metadata": {},
   "outputs": [
    {
     "data": {
      "image/png": "[encoded data removed]",
      "text/plain": [
       "<Figure size 432x288 with 1 Axes>"
      ]
     },
     "metadata": {
      "needs_background": "light"
     },
     "output_type": "display_data"
    }
   ],
   "source": [
    "sns.boxplot(x=kmeans.labels_, y=\"Age in years\", data=data, palette=\"Set1\");"
   ]
  },
  {
   "cell_type": "markdown",
   "metadata": {},
   "source": [
    "- La variable \"Age in years\" n'est pas du tout significative car on a les memes valeurs dans les deux clusters"
   ]
  },
  {
   "cell_type": "code",
   "execution_count": 65,
   "metadata": {},
   "outputs": [
    {
     "data": {
      "image/png": "[encoded data removed]",
      "text/plain": [
       "<Figure size 432x288 with 1 Axes>"
      ]
     },
     "metadata": {
      "needs_background": "light"
     },
     "output_type": "display_data"
    }
   ],
   "source": [
    "sns.boxplot(x=kmeans.labels_, y=\"Installment rate\", data=data, palette=\"Set1\");"
   ]
  },
  {
   "cell_type": "markdown",
   "metadata": {},
   "source": [
    "- Interprétation : la variable \"Installment rate\" n'est pas du tout significative ( car les deux clusters contiennent les memes valeurs )"
   ]
  },
  {
   "cell_type": "markdown",
   "metadata": {},
   "source": [
    "##### Conclusion :\n",
    "  - Dans Ce jeux de données , seulement les variables \"Credit amount\" et \"Duration\" sont significatives et elles sont plus élevées au niveau su cluster1 que le cluster0"
   ]
  },
  {
   "cell_type": "markdown",
   "metadata": {},
   "source": [
    "### 2)CAH (méthode hiérarchique):"
   ]
  },
  {
   "cell_type": "code",
   "execution_count": 66,
   "metadata": {},
   "outputs": [],
   "source": [
    "#librairies pour la CAH \n",
    "from matplotlib import pyplot as plt \n",
    "from scipy.cluster.hierarchy import dendrogram, linkage,fcluster"
   ]
  },
  {
   "cell_type": "code",
   "execution_count": 67,
   "metadata": {},
   "outputs": [
    {
     "data": {
      "image/png": "[encoded data removed]",
      "text/plain": [
       "<Figure size 432x288 with 1 Axes>"
      ]
     },
     "metadata": {
      "needs_background": "light"
     },
     "output_type": "display_data"
    }
   ],
   "source": [
    "Z = linkage(SansLabels,method='ward',metric='euclidean')\n",
    "plt.title(\"Dendrogram avec critére d'aggregation ward\") \n",
    "dendrogram(Z) \n",
    "plt.show()"
   ]
  },
  {
   "cell_type": "code",
   "execution_count": 68,
   "metadata": {},
   "outputs": [
    {
     "data": {
      "image/png": "[encoded data removed]",
      "text/plain": [
       "<Figure size 432x288 with 1 Axes>"
      ]
     },
     "metadata": {
      "needs_background": "light"
     },
     "output_type": "display_data"
    }
   ],
   "source": [
    "matriceA= linkage(SansLabels, 'average')\n",
    "dendrogram(matriceA)\n",
    "plt.title('Dendrogram avec critere aggregation moyenne')\n",
    "plt.show()"
   ]
  },
  {
   "cell_type": "code",
   "execution_count": 69,
   "metadata": {},
   "outputs": [
    {
     "data": {
      "image/png": "[encoded data removed]",
      "text/plain": [
       "<Figure size 432x288 with 1 Axes>"
      ]
     },
     "metadata": {
      "needs_background": "light"
     },
     "output_type": "display_data"
    }
   ],
   "source": [
    "matriceS = linkage(SansLabels, 'single')\n",
    "dendrogram(matriceS)\n",
    "plt.title('Dendrogram avec critere aggregation distance minimale')\n",
    "plt.show()"
   ]
  },
  {
   "cell_type": "code",
   "execution_count": 70,
   "metadata": {},
   "outputs": [
    {
     "data": {
      "image/png": "[encoded data removed]",
      "text/plain": [
       "<Figure size 432x288 with 1 Axes>"
      ]
     },
     "metadata": {
      "needs_background": "light"
     },
     "output_type": "display_data"
    }
   ],
   "source": [
    "matrice=linkage(SansLabels, 'complete')\n",
    "dendrogram(matrice)\n",
    "plt.title('Dendrogram avec critere aggregation distance maximale')\n",
    "plt.show()"
   ]
  },
  {
   "cell_type": "markdown",
   "metadata": {},
   "source": [
    "- Aprés avoir essayer d'appliquer les 4 méthodes , On a remarqué d'aprés les dendrogrammes que la méthode Ward est la meilleure ,  donc c'est elle qu'on va utiliser pour la suite"
   ]
  },
  {
   "cell_type": "code",
   "execution_count": 71,
   "metadata": {},
   "outputs": [],
   "source": [
    "groupes_cah = fcluster(Z,t=60000,criterion='distance')"
   ]
  },
  {
   "cell_type": "code",
   "execution_count": 73,
   "metadata": {},
   "outputs": [
    {
     "data": {
      "text/html": [
       "<div>\n",
       "<style scoped>\n",
       "    .dataframe tbody tr th:only-of-type {\n",
       "        vertical-align: middle;\n",
       "    }\n",
       "\n",
       "    .dataframe tbody tr th {\n",
       "        vertical-align: top;\n",
       "    }\n",
       "\n",
       "    .dataframe thead th {\n",
       "        text-align: right;\n",
       "    }\n",
       "</style>\n",
       "<table border=\"1\" class=\"dataframe\">\n",
       "  <thead>\n",
       "    <tr style=\"text-align: right;\">\n",
       "      <th>col_0</th>\n",
       "      <th>1</th>\n",
       "      <th>2</th>\n",
       "    </tr>\n",
       "    <tr>\n",
       "      <th>row_0</th>\n",
       "      <th></th>\n",
       "      <th></th>\n",
       "    </tr>\n",
       "  </thead>\n",
       "  <tbody>\n",
       "    <tr>\n",
       "      <th>0</th>\n",
       "      <td>570</td>\n",
       "      <td>130</td>\n",
       "    </tr>\n",
       "    <tr>\n",
       "      <th>1</th>\n",
       "      <td>209</td>\n",
       "      <td>91</td>\n",
       "    </tr>\n",
       "  </tbody>\n",
       "</table>\n",
       "</div>"
      ],
      "text/plain": [
       "col_0    1    2\n",
       "row_0          \n",
       "0      570  130\n",
       "1      209   91"
      ]
     },
     "execution_count": 73,
     "metadata": {},
     "output_type": "execute_result"
    }
   ],
   "source": [
    "pd.crosstab(Labels,groupes_cah)"
   ]
  },
  {
   "cell_type": "code",
   "execution_count": 74,
   "metadata": {},
   "outputs": [
    {
     "data": {
      "text/plain": [
       "0.056114757494858475"
      ]
     },
     "execution_count": 74,
     "metadata": {},
     "output_type": "execute_result"
    }
   ],
   "source": [
    "metrics.adjusted_rand_score(Labels,groupes_cah)"
   ]
  },
  {
   "cell_type": "markdown",
   "metadata": {},
   "source": [
    "### Interprétation:\n",
    "- De meme, le score du tableau croisé est trés faible, Donc On ne va pas  pouvoir l'utiliser pour  interpréter la variable Cible \"RESULT\" avec les clusters\n",
    "- ==> on va se contenter d'utliser le profiling des variables synthétiques comme on a fait au niveau du KMEANS"
   ]
  },
  {
   "cell_type": "markdown",
   "metadata": {},
   "source": [
    "### **Supervised learning algorithms**"
   ]
  },
  {
   "cell_type": "code",
   "execution_count": 75,
   "metadata": {},
   "outputs": [],
   "source": [
    "from sklearn import tree\n",
    "from sklearn.neighbors import KNeighborsClassifier\n",
    "from sklearn.tree import DecisionTreeClassifier\n",
    "from sklearn.ensemble import RandomForestClassifier\n",
    "from sklearn.model_selection import train_test_split\n",
    "from sklearn import preprocessing \n",
    "from sklearn import metrics\n",
    "from sklearn.metrics import confusion_matrix,accuracy_score"
   ]
  },
  {
   "cell_type": "code",
   "execution_count": 76,
   "metadata": {},
   "outputs": [],
   "source": [
    "X_train,X_test,y_train,y_test=train_test_split(X,y,test_size=0.2,random_state=10)"
   ]
  },
  {
   "cell_type": "code",
   "execution_count": 120,
   "metadata": {},
   "outputs": [],
   "source": [
    "from sklearn.preprocessing import StandardScaler\n",
    "scaler = StandardScaler()\n",
    "X_train = scaler.fit_transform(X_train)\n",
    "X_test = scaler.transform(X_test)"
   ]
  },
  {
   "cell_type": "markdown",
   "metadata": {},
   "source": [
    "### 1)Trying KNN"
   ]
  },
  {
   "cell_type": "code",
   "execution_count": 78,
   "metadata": {},
   "outputs": [],
   "source": [
    "from sklearn.model_selection import KFold\n",
    "from sklearn.model_selection import cross_val_score\n",
    "\n",
    "k_fold = KFold(n_splits = 10, shuffle = True, random_state  =0)"
   ]
  },
  {
   "cell_type": "code",
   "execution_count": 79,
   "metadata": {},
   "outputs": [
    {
     "data": {
      "text/plain": [
       "Text(0, 0.5, 'Erreur')"
      ]
     },
     "execution_count": 79,
     "metadata": {},
     "output_type": "execute_result"
    },
    {
     "data": {
      "image/png": "[encoded data removed]",
      "text/plain": [
       "<Figure size 864x432 with 1 Axes>"
      ]
     },
     "metadata": {
      "needs_background": "light"
     },
     "output_type": "display_data"
    }
   ],
   "source": [
    "error = []\n",
    "# Calculer l'erreur pour k entre 1 et 40 \n",
    "#Pour chaque itération, l'erreur moyenne pour les valeurs prédites \n",
    "#de l'ensemble de test est calculée et sauvegardée ds la liste Erreur.\n",
    "for i in range(1, 40):\n",
    "    knn = KNeighborsClassifier(i)\n",
    "    knn_model = knn.fit(X_train, y_train)\n",
    "    pred_i = knn_model.predict(X_test)\n",
    "    error.append(np.mean(pred_i != y_test))\n",
    "plt.figure(figsize=(12, 6))\n",
    "plt.plot(range(1, 40), error, color='red', linestyle='dashed', marker='o',\n",
    "         markerfacecolor='blue', markersize=10)\n",
    "plt.title('Taux Erreur pour les differentes valeurs de k')\n",
    "plt.xlabel('K ')\n",
    "plt.ylabel('Erreur')"
   ]
  },
  {
   "cell_type": "markdown",
   "metadata": {},
   "source": [
    "- L'erreur est minimal lorsque le nombre de K est égale à 4"
   ]
  },
  {
   "cell_type": "code",
   "execution_count": 81,
   "metadata": {},
   "outputs": [],
   "source": [
    "knn = KNeighborsClassifier(4)\n",
    "knn_model = knn.fit(X_train, y_train)\n",
    "y_pred_knn = knn_model.predict(X_test)"
   ]
  },
  {
   "cell_type": "code",
   "execution_count": 82,
   "metadata": {},
   "outputs": [
    {
     "name": "stdout",
     "output_type": "stream",
     "text": [
      "Accuracy of K-NN classifier on training set: 0.81\n",
      "Accuracy of K-NN classifier on test set: 0.74\n"
     ]
    }
   ],
   "source": [
    "print('Accuracy of K-NN classifier on training set: {:.2f}'\n",
    "     .format(knn.score(X_train, y_train)))\n",
    "print('Accuracy of K-NN classifier on test set: {:.2f}'\n",
    "     .format(knn.score(X_test, y_test)))"
   ]
  },
  {
   "cell_type": "markdown",
   "metadata": {},
   "source": [
    "- On a appliqué la cross validation:"
   ]
  },
  {
   "cell_type": "code",
   "execution_count": 83,
   "metadata": {},
   "outputs": [
    {
     "name": "stdout",
     "output_type": "stream",
     "text": [
      "[0.76 0.62 0.68 0.67 0.7  0.68 0.6  0.74 0.67 0.63]\n"
     ]
    }
   ],
   "source": [
    "scoring = 'accuracy'\n",
    "score = cross_val_score(knn, X, y, cv= k_fold, n_jobs=1, scoring=scoring)\n",
    "print(score)"
   ]
  },
  {
   "cell_type": "code",
   "execution_count": 84,
   "metadata": {},
   "outputs": [
    {
     "data": {
      "text/plain": [
       "0.6749999999999999"
      ]
     },
     "execution_count": 84,
     "metadata": {},
     "output_type": "execute_result"
    }
   ],
   "source": [
    "(np.mean(score))"
   ]
  },
  {
   "cell_type": "code",
   "execution_count": 85,
   "metadata": {},
   "outputs": [
    {
     "name": "stdout",
     "output_type": "stream",
     "text": [
      "[[131   7]\n",
      " [ 45  17]]\n"
     ]
    }
   ],
   "source": [
    "from sklearn.metrics import confusion_matrix\n",
    "print(confusion_matrix(y_test, y_pred_knn))"
   ]
  },
  {
   "cell_type": "code",
   "execution_count": 86,
   "metadata": {},
   "outputs": [
    {
     "name": "stdout",
     "output_type": "stream",
     "text": [
      "              precision    recall  f1-score   support\n",
      "\n",
      "           0       0.74      0.95      0.83       138\n",
      "           1       0.71      0.27      0.40        62\n",
      "\n",
      "    accuracy                           0.74       200\n",
      "   macro avg       0.73      0.61      0.61       200\n",
      "weighted avg       0.73      0.74      0.70       200\n",
      "\n"
     ]
    }
   ],
   "source": [
    "from sklearn.metrics import classification_report\n",
    "print(classification_report(y_test, y_pred_knn))"
   ]
  },
  {
   "cell_type": "markdown",
   "metadata": {},
   "source": [
    "### 2)Trying Decision tree"
   ]
  },
  {
   "cell_type": "code",
   "execution_count": 87,
   "metadata": {},
   "outputs": [],
   "source": [
    "dtc = DecisionTreeClassifier()\n",
    "dtc_model = DecisionTreeClassifier().fit(X_train, y_train)\n",
    "y_pred_dtc = dtc_model.predict(X_test)"
   ]
  },
  {
   "cell_type": "code",
   "execution_count": 88,
   "metadata": {},
   "outputs": [
    {
     "name": "stdout",
     "output_type": "stream",
     "text": [
      "Accuracy of CART classifier on training set: 1.00\n",
      "Accuracy of CART classifier on test set: 0.71\n"
     ]
    }
   ],
   "source": [
    "print('Accuracy of CART classifier on training set: {:.2f}'\n",
    "     .format(dtc_model.score(X_train, y_train)))\n",
    "print('Accuracy of CART classifier on test set: {:.2f}'\n",
    "     .format(dtc_model.score(X_test, y_test)))"
   ]
  },
  {
   "cell_type": "code",
   "execution_count": 89,
   "metadata": {},
   "outputs": [
    {
     "name": "stdout",
     "output_type": "stream",
     "text": [
      "[0.63 0.65 0.66 0.72 0.67 0.7  0.67 0.71 0.66 0.73]\n"
     ]
    }
   ],
   "source": [
    "scoring = 'accuracy'\n",
    "score = cross_val_score(dtc, X, y, cv= k_fold, n_jobs=1, scoring=scoring)\n",
    "print(score)"
   ]
  },
  {
   "cell_type": "code",
   "execution_count": 90,
   "metadata": {},
   "outputs": [
    {
     "data": {
      "text/plain": [
       "0.68"
      ]
     },
     "execution_count": 90,
     "metadata": {},
     "output_type": "execute_result"
    }
   ],
   "source": [
    "np.mean(score)"
   ]
  },
  {
   "cell_type": "code",
   "execution_count": 91,
   "metadata": {},
   "outputs": [
    {
     "name": "stdout",
     "output_type": "stream",
     "text": [
      "[[114  24]\n",
      " [ 34  28]]\n"
     ]
    }
   ],
   "source": [
    "print(confusion_matrix(y_test, y_pred_dtc))"
   ]
  },
  {
   "cell_type": "code",
   "execution_count": 92,
   "metadata": {},
   "outputs": [
    {
     "name": "stdout",
     "output_type": "stream",
     "text": [
      "              precision    recall  f1-score   support\n",
      "\n",
      "           0       0.77      0.83      0.80       138\n",
      "           1       0.54      0.45      0.49        62\n",
      "\n",
      "    accuracy                           0.71       200\n",
      "   macro avg       0.65      0.64      0.64       200\n",
      "weighted avg       0.70      0.71      0.70       200\n",
      "\n"
     ]
    }
   ],
   "source": [
    "print(classification_report(y_test, y_pred_dtc))"
   ]
  },
  {
   "cell_type": "markdown",
   "metadata": {},
   "source": [
    "### 3)Trying RFC "
   ]
  },
  {
   "cell_type": "code",
   "execution_count": 93,
   "metadata": {},
   "outputs": [],
   "source": [
    "from sklearn.ensemble import RandomForestClassifier\n",
    "rfc = RandomForestClassifier()\n",
    "rfc_model = rfc.fit(X_train, y_train)\n",
    "y_pred_rfc = rfc_model.predict(X_test)"
   ]
  },
  {
   "cell_type": "code",
   "execution_count": 94,
   "metadata": {},
   "outputs": [
    {
     "name": "stdout",
     "output_type": "stream",
     "text": [
      "Accuracy of Random Forest classifier on training set: 1.00\n",
      "Accuracy of Random Forest classifier on test set: 0.77\n"
     ]
    }
   ],
   "source": [
    "print('Accuracy of Random Forest classifier on training set: {:.2f}'\n",
    "     .format(rfc_model.score(X_train, y_train)))\n",
    "print('Accuracy of Random Forest classifier on test set: {:.2f}'\n",
    "     .format(rfc_model.score(X_test, y_test)))"
   ]
  },
  {
   "cell_type": "code",
   "execution_count": 95,
   "metadata": {},
   "outputs": [
    {
     "name": "stdout",
     "output_type": "stream",
     "text": [
      "[0.76 0.7  0.81 0.68 0.77 0.76 0.75 0.77 0.77 0.73]\n"
     ]
    }
   ],
   "source": [
    "scoring = 'accuracy'\n",
    "score = cross_val_score(rfc, X, y, cv= k_fold, n_jobs=1, scoring=scoring)\n",
    "print(score)"
   ]
  },
  {
   "cell_type": "code",
   "execution_count": 96,
   "metadata": {},
   "outputs": [
    {
     "data": {
      "text/plain": [
       "0.75"
      ]
     },
     "execution_count": 96,
     "metadata": {},
     "output_type": "execute_result"
    }
   ],
   "source": [
    "np.mean(score)"
   ]
  },
  {
   "cell_type": "code",
   "execution_count": 97,
   "metadata": {},
   "outputs": [
    {
     "name": "stdout",
     "output_type": "stream",
     "text": [
      "[[130   8]\n",
      " [ 39  23]]\n"
     ]
    }
   ],
   "source": [
    "print(confusion_matrix(y_test, y_pred_rfc))"
   ]
  },
  {
   "cell_type": "code",
   "execution_count": 98,
   "metadata": {},
   "outputs": [
    {
     "name": "stdout",
     "output_type": "stream",
     "text": [
      "              precision    recall  f1-score   support\n",
      "\n",
      "           0       0.77      0.94      0.85       138\n",
      "           1       0.74      0.37      0.49        62\n",
      "\n",
      "    accuracy                           0.77       200\n",
      "   macro avg       0.76      0.66      0.67       200\n",
      "weighted avg       0.76      0.77      0.74       200\n",
      "\n"
     ]
    }
   ],
   "source": [
    "print(classification_report(y_test, y_pred_rfc))"
   ]
  },
  {
   "cell_type": "markdown",
   "metadata": {},
   "source": [
    "### 4.1) Simple gradient boosting classifier"
   ]
  },
  {
   "cell_type": "code",
   "execution_count": 99,
   "metadata": {},
   "outputs": [],
   "source": [
    "from sklearn.ensemble import GradientBoostingClassifier"
   ]
  },
  {
   "cell_type": "code",
   "execution_count": 100,
   "metadata": {},
   "outputs": [
    {
     "name": "stdout",
     "output_type": "stream",
     "text": [
      "Learning rate:  0.05\n",
      "Accuracy score (training): 0.703\n",
      "Accuracy score (validation): 0.690\n",
      "Learning rate:  0.075\n",
      "Accuracy score (training): 0.708\n",
      "Accuracy score (validation): 0.700\n",
      "Learning rate:  0.1\n",
      "Accuracy score (training): 0.731\n",
      "Accuracy score (validation): 0.735\n",
      "Learning rate:  0.25\n",
      "Accuracy score (training): 0.799\n",
      "Accuracy score (validation): 0.740\n",
      "Learning rate:  0.5\n",
      "Accuracy score (training): 0.825\n",
      "Accuracy score (validation): 0.760\n",
      "Learning rate:  0.75\n",
      "Accuracy score (training): 0.849\n",
      "Accuracy score (validation): 0.715\n",
      "Learning rate:  1\n",
      "Accuracy score (training): 0.856\n",
      "Accuracy score (validation): 0.755\n"
     ]
    }
   ],
   "source": [
    "lr_list = [0.05, 0.075, 0.1, 0.25, 0.5, 0.75, 1]\n",
    "\n",
    "for learning_rate in lr_list:\n",
    "    gb_clf = GradientBoostingClassifier(n_estimators=20, learning_rate=learning_rate, max_features=None, max_depth=2, random_state=0)\n",
    "    gb_clf.fit(X_train, y_train)\n",
    "\n",
    "    print(\"Learning rate: \", learning_rate)\n",
    "    print(\"Accuracy score (training): {0:.3f}\".format(gb_clf.score(X_train, y_train)))\n",
    "    print(\"Accuracy score (validation): {0:.3f}\".format(gb_clf.score(X_test, y_test)))"
   ]
  },
  {
   "cell_type": "markdown",
   "metadata": {},
   "source": [
    "We're mainly interested in the classifier's accuracy on the validation set, but it looks like a learning rate of 0.5 gives us the best performance on the validation set and good performance on the training set."
   ]
  },
  {
   "cell_type": "code",
   "execution_count": 101,
   "metadata": {},
   "outputs": [
    {
     "name": "stdout",
     "output_type": "stream",
     "text": [
      "Confusion Matrix:\n",
      "[[119  19]\n",
      " [ 29  33]]\n",
      "Classification Report\n",
      "              precision    recall  f1-score   support\n",
      "\n",
      "           0       0.80      0.86      0.83       138\n",
      "           1       0.63      0.53      0.58        62\n",
      "\n",
      "    accuracy                           0.76       200\n",
      "   macro avg       0.72      0.70      0.71       200\n",
      "weighted avg       0.75      0.76      0.75       200\n",
      "\n"
     ]
    }
   ],
   "source": [
    "gb_clf2 = GradientBoostingClassifier(n_estimators=20, learning_rate=0.5, max_features=None, max_depth=2, random_state=0)\n",
    "gb_clf2.fit(X_train, y_train)\n",
    "y_pred_GB = gb_clf2.predict(X_test)\n",
    "\n",
    "print(\"Confusion Matrix:\")\n",
    "print(confusion_matrix(y_test, y_pred_GB))\n",
    "print(\"Classification Report\")\n",
    "print(classification_report(y_test, y_pred_GB))"
   ]
  },
  {
   "cell_type": "code",
   "execution_count": 102,
   "metadata": {},
   "outputs": [
    {
     "name": "stdout",
     "output_type": "stream",
     "text": [
      "[0.8  0.73 0.82 0.72 0.79 0.72 0.75 0.78 0.64 0.7 ]\n",
      "0.745\n"
     ]
    }
   ],
   "source": [
    "scoring = 'accuracy'\n",
    "score = cross_val_score(gb_clf2, X, y, cv= k_fold, n_jobs=1, scoring=scoring)\n",
    "print(score)\n",
    "print(np.mean(score))"
   ]
  },
  {
   "cell_type": "markdown",
   "metadata": {},
   "source": [
    "### 4.2) XGBoost Classifier"
   ]
  },
  {
   "cell_type": "code",
   "execution_count": 104,
   "metadata": {},
   "outputs": [],
   "source": [
    "from xgboost import XGBClassifier"
   ]
  },
  {
   "cell_type": "code",
   "execution_count": 105,
   "metadata": {},
   "outputs": [],
   "source": [
    "xgb_clf = XGBClassifier()\n",
    "xgb_clf.fit(X_train, y_train)\n",
    "y_pred_XGB = xgb_clf.predict(X_test)"
   ]
  },
  {
   "cell_type": "code",
   "execution_count": 106,
   "metadata": {},
   "outputs": [
    {
     "name": "stdout",
     "output_type": "stream",
     "text": [
      "Accuracy score (training): 0.880\n",
      "Accuracy score (validation): 0.745\n"
     ]
    }
   ],
   "source": [
    "print(\"Accuracy score (training): {0:.3f}\".format(xgb_clf.score(X_train, y_train)))\n",
    "print(\"Accuracy score (validation): {0:.3f}\".format(xgb_clf.score(X_test, y_test)))"
   ]
  },
  {
   "cell_type": "code",
   "execution_count": 107,
   "metadata": {},
   "outputs": [
    {
     "name": "stdout",
     "output_type": "stream",
     "text": [
      "Confusion Matrix:\n",
      "[[122  16]\n",
      " [ 35  27]]\n",
      "Classification Report\n",
      "              precision    recall  f1-score   support\n",
      "\n",
      "           0       0.78      0.88      0.83       138\n",
      "           1       0.63      0.44      0.51        62\n",
      "\n",
      "    accuracy                           0.74       200\n",
      "   macro avg       0.70      0.66      0.67       200\n",
      "weighted avg       0.73      0.74      0.73       200\n",
      "\n"
     ]
    }
   ],
   "source": [
    "print(\"Confusion Matrix:\")\n",
    "print(confusion_matrix(y_test, y_pred_XGB))\n",
    "print(\"Classification Report\")\n",
    "print(classification_report(y_test, y_pred_XGB))"
   ]
  },
  {
   "cell_type": "code",
   "execution_count": 108,
   "metadata": {},
   "outputs": [
    {
     "name": "stdout",
     "output_type": "stream",
     "text": [
      "[0.81 0.73 0.83 0.7  0.74 0.77 0.71 0.76 0.73 0.7 ]\n",
      "0.748\n"
     ]
    }
   ],
   "source": [
    "scoring = 'accuracy'\n",
    "score = cross_val_score(xgb_clf, X, y, cv= k_fold, n_jobs=1, scoring=scoring)\n",
    "print(score)\n",
    "print(np.mean(score))"
   ]
  },
  {
   "cell_type": "markdown",
   "metadata": {},
   "source": [
    "### 5) Logistic regression"
   ]
  },
  {
   "cell_type": "code",
   "execution_count": 115,
   "metadata": {},
   "outputs": [],
   "source": [
    "from sklearn.linear_model import LogisticRegression"
   ]
  },
  {
   "cell_type": "code",
   "execution_count": 116,
   "metadata": {},
   "outputs": [
    {
     "data": {
      "text/plain": [
       "LogisticRegression(C=1.0, class_weight=None, dual=False, fit_intercept=True,\n",
       "                   intercept_scaling=1, l1_ratio=None, max_iter=100,\n",
       "                   multi_class='auto', n_jobs=None, penalty='l2',\n",
       "                   random_state=None, solver='lbfgs', tol=0.0001, verbose=0,\n",
       "                   warm_start=False)"
      ]
     },
     "execution_count": 116,
     "metadata": {},
     "output_type": "execute_result"
    }
   ],
   "source": [
    "logreg = LogisticRegression()\n",
    "logreg.fit(X_train, y_train)"
   ]
  },
  {
   "cell_type": "code",
   "execution_count": 117,
   "metadata": {},
   "outputs": [
    {
     "name": "stdout",
     "output_type": "stream",
     "text": [
      "Accuracy of logistic regression classifier on train set: 0.781\n",
      "Accuracy of logistic regression classifier on test set: 0.760\n"
     ]
    }
   ],
   "source": [
    "y_pred_logreg = logreg.predict(X_test)\n",
    "print('Accuracy of logistic regression classifier on train set: {:.3f}'.format(logreg.score(X_train, y_train)))\n",
    "print('Accuracy of logistic regression classifier on test set: {:.3f}'.format(logreg.score(X_test, y_test)))"
   ]
  },
  {
   "cell_type": "code",
   "execution_count": 118,
   "metadata": {},
   "outputs": [
    {
     "name": "stdout",
     "output_type": "stream",
     "text": [
      "Confusion Matrix:\n",
      "[[119  19]\n",
      " [ 29  33]]\n",
      "Classification Report\n",
      "              precision    recall  f1-score   support\n",
      "\n",
      "           0       0.80      0.86      0.83       138\n",
      "           1       0.63      0.53      0.58        62\n",
      "\n",
      "    accuracy                           0.76       200\n",
      "   macro avg       0.72      0.70      0.71       200\n",
      "weighted avg       0.75      0.76      0.75       200\n",
      "\n"
     ]
    }
   ],
   "source": [
    "print(\"Confusion Matrix:\")\n",
    "print(confusion_matrix(y_test, y_pred_logreg))\n",
    "print(\"Classification Report\")\n",
    "print(classification_report(y_test, y_pred_logreg))"
   ]
  },
  {
   "cell_type": "code",
   "execution_count": 121,
   "metadata": {},
   "outputs": [
    {
     "name": "stderr",
     "output_type": "stream",
     "text": [
      "C:\\Users\\LEGION\\Anaconda3\\lib\\site-packages\\sklearn\\linear_model\\_logistic.py:940: ConvergenceWarning: lbfgs failed to converge (status=1):\n",
      "STOP: TOTAL NO. of ITERATIONS REACHED LIMIT.\n",
      "\n",
      "Increase the number of iterations (max_iter) or scale the data as shown in:\n",
      "    https://scikit-learn.org/stable/modules/preprocessing.html\n",
      "Please also refer to the documentation for alternative solver options:\n",
      "    https://scikit-learn.org/stable/modules/linear_model.html#logistic-regression\n",
      "  extra_warning_msg=_LOGISTIC_SOLVER_CONVERGENCE_MSG)\n",
      "C:\\Users\\LEGION\\Anaconda3\\lib\\site-packages\\sklearn\\linear_model\\_logistic.py:940: ConvergenceWarning: lbfgs failed to converge (status=1):\n",
      "STOP: TOTAL NO. of ITERATIONS REACHED LIMIT.\n",
      "\n",
      "Increase the number of iterations (max_iter) or scale the data as shown in:\n",
      "    https://scikit-learn.org/stable/modules/preprocessing.html\n",
      "Please also refer to the documentation for alternative solver options:\n",
      "    https://scikit-learn.org/stable/modules/linear_model.html#logistic-regression\n",
      "  extra_warning_msg=_LOGISTIC_SOLVER_CONVERGENCE_MSG)\n",
      "C:\\Users\\LEGION\\Anaconda3\\lib\\site-packages\\sklearn\\linear_model\\_logistic.py:940: ConvergenceWarning: lbfgs failed to converge (status=1):\n",
      "STOP: TOTAL NO. of ITERATIONS REACHED LIMIT.\n",
      "\n",
      "Increase the number of iterations (max_iter) or scale the data as shown in:\n",
      "    https://scikit-learn.org/stable/modules/preprocessing.html\n",
      "Please also refer to the documentation for alternative solver options:\n",
      "    https://scikit-learn.org/stable/modules/linear_model.html#logistic-regression\n",
      "  extra_warning_msg=_LOGISTIC_SOLVER_CONVERGENCE_MSG)\n",
      "C:\\Users\\LEGION\\Anaconda3\\lib\\site-packages\\sklearn\\linear_model\\_logistic.py:940: ConvergenceWarning: lbfgs failed to converge (status=1):\n",
      "STOP: TOTAL NO. of ITERATIONS REACHED LIMIT.\n",
      "\n",
      "Increase the number of iterations (max_iter) or scale the data as shown in:\n",
      "    https://scikit-learn.org/stable/modules/preprocessing.html\n",
      "Please also refer to the documentation for alternative solver options:\n",
      "    https://scikit-learn.org/stable/modules/linear_model.html#logistic-regression\n",
      "  extra_warning_msg=_LOGISTIC_SOLVER_CONVERGENCE_MSG)\n",
      "C:\\Users\\LEGION\\Anaconda3\\lib\\site-packages\\sklearn\\linear_model\\_logistic.py:940: ConvergenceWarning: lbfgs failed to converge (status=1):\n",
      "STOP: TOTAL NO. of ITERATIONS REACHED LIMIT.\n",
      "\n",
      "Increase the number of iterations (max_iter) or scale the data as shown in:\n",
      "    https://scikit-learn.org/stable/modules/preprocessing.html\n",
      "Please also refer to the documentation for alternative solver options:\n",
      "    https://scikit-learn.org/stable/modules/linear_model.html#logistic-regression\n",
      "  extra_warning_msg=_LOGISTIC_SOLVER_CONVERGENCE_MSG)\n",
      "C:\\Users\\LEGION\\Anaconda3\\lib\\site-packages\\sklearn\\linear_model\\_logistic.py:940: ConvergenceWarning: lbfgs failed to converge (status=1):\n",
      "STOP: TOTAL NO. of ITERATIONS REACHED LIMIT.\n",
      "\n",
      "Increase the number of iterations (max_iter) or scale the data as shown in:\n",
      "    https://scikit-learn.org/stable/modules/preprocessing.html\n",
      "Please also refer to the documentation for alternative solver options:\n",
      "    https://scikit-learn.org/stable/modules/linear_model.html#logistic-regression\n",
      "  extra_warning_msg=_LOGISTIC_SOLVER_CONVERGENCE_MSG)\n"
     ]
    },
    {
     "name": "stdout",
     "output_type": "stream",
     "text": [
      "[0.79 0.7  0.77 0.71 0.67 0.77 0.74 0.73 0.73 0.76]\n",
      "0.7369999999999999\n"
     ]
    },
    {
     "name": "stderr",
     "output_type": "stream",
     "text": [
      "C:\\Users\\LEGION\\Anaconda3\\lib\\site-packages\\sklearn\\linear_model\\_logistic.py:940: ConvergenceWarning: lbfgs failed to converge (status=1):\n",
      "STOP: TOTAL NO. of ITERATIONS REACHED LIMIT.\n",
      "\n",
      "Increase the number of iterations (max_iter) or scale the data as shown in:\n",
      "    https://scikit-learn.org/stable/modules/preprocessing.html\n",
      "Please also refer to the documentation for alternative solver options:\n",
      "    https://scikit-learn.org/stable/modules/linear_model.html#logistic-regression\n",
      "  extra_warning_msg=_LOGISTIC_SOLVER_CONVERGENCE_MSG)\n",
      "C:\\Users\\LEGION\\Anaconda3\\lib\\site-packages\\sklearn\\linear_model\\_logistic.py:940: ConvergenceWarning: lbfgs failed to converge (status=1):\n",
      "STOP: TOTAL NO. of ITERATIONS REACHED LIMIT.\n",
      "\n",
      "Increase the number of iterations (max_iter) or scale the data as shown in:\n",
      "    https://scikit-learn.org/stable/modules/preprocessing.html\n",
      "Please also refer to the documentation for alternative solver options:\n",
      "    https://scikit-learn.org/stable/modules/linear_model.html#logistic-regression\n",
      "  extra_warning_msg=_LOGISTIC_SOLVER_CONVERGENCE_MSG)\n",
      "C:\\Users\\LEGION\\Anaconda3\\lib\\site-packages\\sklearn\\linear_model\\_logistic.py:940: ConvergenceWarning: lbfgs failed to converge (status=1):\n",
      "STOP: TOTAL NO. of ITERATIONS REACHED LIMIT.\n",
      "\n",
      "Increase the number of iterations (max_iter) or scale the data as shown in:\n",
      "    https://scikit-learn.org/stable/modules/preprocessing.html\n",
      "Please also refer to the documentation for alternative solver options:\n",
      "    https://scikit-learn.org/stable/modules/linear_model.html#logistic-regression\n",
      "  extra_warning_msg=_LOGISTIC_SOLVER_CONVERGENCE_MSG)\n",
      "C:\\Users\\LEGION\\Anaconda3\\lib\\site-packages\\sklearn\\linear_model\\_logistic.py:940: ConvergenceWarning: lbfgs failed to converge (status=1):\n",
      "STOP: TOTAL NO. of ITERATIONS REACHED LIMIT.\n",
      "\n",
      "Increase the number of iterations (max_iter) or scale the data as shown in:\n",
      "    https://scikit-learn.org/stable/modules/preprocessing.html\n",
      "Please also refer to the documentation for alternative solver options:\n",
      "    https://scikit-learn.org/stable/modules/linear_model.html#logistic-regression\n",
      "  extra_warning_msg=_LOGISTIC_SOLVER_CONVERGENCE_MSG)\n"
     ]
    }
   ],
   "source": [
    "scoring = 'accuracy'\n",
    "score = cross_val_score(logreg, X, y, cv= k_fold, n_jobs=1, scoring=scoring)\n",
    "print(score)\n",
    "print(np.mean(score))"
   ]
  },
  {
   "cell_type": "markdown",
   "metadata": {},
   "source": [
    "### 6) Naive bayes -- GaussianNB model"
   ]
  },
  {
   "cell_type": "code",
   "execution_count": 122,
   "metadata": {},
   "outputs": [],
   "source": [
    "from sklearn.naive_bayes import GaussianNB\n"
   ]
  },
  {
   "cell_type": "code",
   "execution_count": 123,
   "metadata": {},
   "outputs": [
    {
     "data": {
      "text/plain": [
       "GaussianNB(priors=None, var_smoothing=1e-09)"
      ]
     },
     "execution_count": 123,
     "metadata": {},
     "output_type": "execute_result"
    }
   ],
   "source": [
    "model = GaussianNB()\n",
    "model.fit(X_train, y_train)"
   ]
  },
  {
   "cell_type": "code",
   "execution_count": 124,
   "metadata": {},
   "outputs": [],
   "source": [
    "y_pred_NB = model.predict(X_test)"
   ]
  },
  {
   "cell_type": "code",
   "execution_count": 125,
   "metadata": {},
   "outputs": [
    {
     "name": "stdout",
     "output_type": "stream",
     "text": [
      "Accuracy on train set: 0.731\n",
      "Accuracy on test set: 0.740\n"
     ]
    }
   ],
   "source": [
    "print('Accuracy on train set: {:.3f}'.format(model.score(X_train, y_train)))\n",
    "print('Accuracy on test set: {:.3f}'.format(model.score(X_test, y_test)))"
   ]
  },
  {
   "cell_type": "code",
   "execution_count": 126,
   "metadata": {},
   "outputs": [
    {
     "name": "stdout",
     "output_type": "stream",
     "text": [
      "              precision    recall  f1-score   support\n",
      "\n",
      "           0       0.84      0.77      0.80       138\n",
      "           1       0.57      0.68      0.62        62\n",
      "\n",
      "    accuracy                           0.74       200\n",
      "   macro avg       0.70      0.72      0.71       200\n",
      "weighted avg       0.76      0.74      0.75       200\n",
      "\n",
      "[[106  32]\n",
      " [ 20  42]]\n"
     ]
    }
   ],
   "source": [
    "print(metrics.classification_report(y_test, y_pred_NB))\n",
    "print(metrics.confusion_matrix(y_test, y_pred_NB))"
   ]
  },
  {
   "cell_type": "code",
   "execution_count": 127,
   "metadata": {},
   "outputs": [
    {
     "name": "stdout",
     "output_type": "stream",
     "text": [
      "[0.74 0.6  0.77 0.67 0.76 0.7  0.69 0.69 0.75 0.69]\n",
      "0.7059999999999998\n"
     ]
    }
   ],
   "source": [
    "scoring = 'accuracy'\n",
    "score = cross_val_score(model, X, y, cv= k_fold, n_jobs=1, scoring=scoring)\n",
    "print(score)\n",
    "print(np.mean(score))"
   ]
  },
  {
   "cell_type": "markdown",
   "metadata": {},
   "source": [
    "### 7.1) Linear SVM"
   ]
  },
  {
   "cell_type": "code",
   "execution_count": 1,
   "metadata": {},
   "outputs": [
    {
     "ename": "NameError",
     "evalue": "name 'X_train' is not defined",
     "output_type": "error",
     "traceback": [
      "\u001b[1;31m---------------------------------------------------------------------------\u001b[0m",
      "\u001b[1;31mNameError\u001b[0m                                 Traceback (most recent call last)",
      "\u001b[1;32m<ipython-input-1-27ede2063e4c>\u001b[0m in \u001b[0;36m<module>\u001b[1;34m\u001b[0m\n\u001b[0;32m      1\u001b[0m \u001b[1;32mfrom\u001b[0m \u001b[0msklearn\u001b[0m\u001b[1;33m.\u001b[0m\u001b[0msvm\u001b[0m \u001b[1;32mimport\u001b[0m \u001b[0mSVC\u001b[0m\u001b[1;33m\u001b[0m\u001b[1;33m\u001b[0m\u001b[0m\n\u001b[0;32m      2\u001b[0m \u001b[0msvclassifier1\u001b[0m \u001b[1;33m=\u001b[0m \u001b[0mSVC\u001b[0m\u001b[1;33m(\u001b[0m\u001b[0mkernel\u001b[0m\u001b[1;33m=\u001b[0m\u001b[1;34m'linear'\u001b[0m\u001b[1;33m)\u001b[0m\u001b[1;33m\u001b[0m\u001b[1;33m\u001b[0m\u001b[0m\n\u001b[1;32m----> 3\u001b[1;33m \u001b[0msvclassifier1\u001b[0m\u001b[1;33m.\u001b[0m\u001b[0mfit\u001b[0m\u001b[1;33m(\u001b[0m\u001b[0mX_train\u001b[0m\u001b[1;33m,\u001b[0m \u001b[0my_train\u001b[0m\u001b[1;33m)\u001b[0m\u001b[1;33m\u001b[0m\u001b[1;33m\u001b[0m\u001b[0m\n\u001b[0m",
      "\u001b[1;31mNameError\u001b[0m: name 'X_train' is not defined"
     ]
    }
   ],
   "source": [
    "from sklearn.svm import SVC\n",
    "svclassifier1 = SVC(kernel='linear')\n",
    "svclassifier1.fit(X_train, y_train)"
   ]
  },
  {
   "cell_type": "code",
   "execution_count": null,
   "metadata": {},
   "outputs": [],
   "source": [
    "y_pred_LSVM = svclassifier1.predict(X_test)"
   ]
  },
  {
   "cell_type": "code",
   "execution_count": 130,
   "metadata": {},
   "outputs": [
    {
     "name": "stdout",
     "output_type": "stream",
     "text": [
      "Accuracy on train set: 0.782\n",
      "Accuracy on test set: 0.775\n"
     ]
    }
   ],
   "source": [
    "print('Accuracy on train set: {:.3f}'.format(svclassifier1.score(X_train, y_train)))\n",
    "print('Accuracy on test set: {:.3f}'.format(svclassifier1.score(X_test, y_test)))"
   ]
  },
  {
   "cell_type": "code",
   "execution_count": 131,
   "metadata": {},
   "outputs": [
    {
     "name": "stdout",
     "output_type": "stream",
     "text": [
      "              precision    recall  f1-score   support\n",
      "\n",
      "           0       0.81      0.88      0.84       138\n",
      "           1       0.67      0.53      0.59        62\n",
      "\n",
      "    accuracy                           0.78       200\n",
      "   macro avg       0.74      0.71      0.72       200\n",
      "weighted avg       0.77      0.78      0.77       200\n",
      "\n",
      "[[122  16]\n",
      " [ 29  33]]\n"
     ]
    }
   ],
   "source": [
    "print(metrics.classification_report(y_test, y_pred_LSVM))\n",
    "print(metrics.confusion_matrix(y_test, y_pred_LSVM))"
   ]
  },
  {
   "cell_type": "markdown",
   "metadata": {},
   "source": [
    "### 7.2) SVM polinomial kernel"
   ]
  },
  {
   "cell_type": "code",
   "execution_count": 132,
   "metadata": {},
   "outputs": [
    {
     "data": {
      "text/plain": [
       "SVC(C=1.0, break_ties=False, cache_size=200, class_weight=None, coef0=0.0,\n",
       "    decision_function_shape='ovr', degree=8, gamma='scale', kernel='poly',\n",
       "    max_iter=-1, probability=False, random_state=None, shrinking=True,\n",
       "    tol=0.001, verbose=False)"
      ]
     },
     "execution_count": 132,
     "metadata": {},
     "output_type": "execute_result"
    }
   ],
   "source": [
    "svclassifier2 = SVC(kernel='poly', degree=8)\n",
    "svclassifier2.fit(X_train, y_train)"
   ]
  },
  {
   "cell_type": "code",
   "execution_count": 133,
   "metadata": {},
   "outputs": [
    {
     "data": {
      "text/plain": [
       "{1}"
      ]
     },
     "execution_count": 133,
     "metadata": {},
     "output_type": "execute_result"
    }
   ],
   "source": [
    "y_pred_PSVM = svclassifier2.predict(X_test)\n",
    "set(y_test) - set(y_pred_PSVM)"
   ]
  },
  {
   "cell_type": "code",
   "execution_count": 134,
   "metadata": {},
   "outputs": [
    {
     "name": "stdout",
     "output_type": "stream",
     "text": [
      "Accuracy on train set: 0.833\n",
      "Accuracy on test set: 0.690\n"
     ]
    }
   ],
   "source": [
    "print('Accuracy on train set: {:.3f}'.format(svclassifier2.score(X_train, y_train)))\n",
    "print('Accuracy on test set: {:.3f}'.format(svclassifier2.score(X_test, y_test)))"
   ]
  },
  {
   "cell_type": "code",
   "execution_count": 135,
   "metadata": {},
   "outputs": [
    {
     "name": "stdout",
     "output_type": "stream",
     "text": [
      "              precision    recall  f1-score   support\n",
      "\n",
      "           0       0.69      1.00      0.82       138\n",
      "           1       0.00      0.00      0.00        62\n",
      "\n",
      "    accuracy                           0.69       200\n",
      "   macro avg       0.34      0.50      0.41       200\n",
      "weighted avg       0.48      0.69      0.56       200\n",
      "\n",
      "[[138   0]\n",
      " [ 62   0]]\n"
     ]
    },
    {
     "name": "stderr",
     "output_type": "stream",
     "text": [
      "C:\\Users\\LEGION\\Anaconda3\\lib\\site-packages\\sklearn\\metrics\\_classification.py:1272: UndefinedMetricWarning: Precision and F-score are ill-defined and being set to 0.0 in labels with no predicted samples. Use `zero_division` parameter to control this behavior.\n",
      "  _warn_prf(average, modifier, msg_start, len(result))\n"
     ]
    }
   ],
   "source": [
    "print(metrics.classification_report(y_test, y_pred_PSVM))\n",
    "print(metrics.confusion_matrix(y_test, y_pred_PSVM))"
   ]
  },
  {
   "cell_type": "markdown",
   "metadata": {},
   "source": [
    "### 7.3) SVM gaussian kernal"
   ]
  },
  {
   "cell_type": "code",
   "execution_count": 136,
   "metadata": {},
   "outputs": [
    {
     "data": {
      "text/plain": [
       "SVC(C=1.0, break_ties=False, cache_size=200, class_weight=None, coef0=0.0,\n",
       "    decision_function_shape='ovr', degree=3, gamma='scale', kernel='rbf',\n",
       "    max_iter=-1, probability=False, random_state=None, shrinking=True,\n",
       "    tol=0.001, verbose=False)"
      ]
     },
     "execution_count": 136,
     "metadata": {},
     "output_type": "execute_result"
    }
   ],
   "source": [
    "svclassifier3 = SVC(kernel='rbf')\n",
    "svclassifier3.fit(X_train, y_train)"
   ]
  },
  {
   "cell_type": "code",
   "execution_count": 137,
   "metadata": {},
   "outputs": [],
   "source": [
    "y_pred_GSVM = svclassifier3.predict(X_test)"
   ]
  },
  {
   "cell_type": "code",
   "execution_count": 138,
   "metadata": {},
   "outputs": [
    {
     "name": "stdout",
     "output_type": "stream",
     "text": [
      "Accuracy on train set: 0.891\n",
      "Accuracy on test set: 0.785\n"
     ]
    }
   ],
   "source": [
    "print('Accuracy on train set: {:.3f}'.format(svclassifier3.score(X_train, y_train)))\n",
    "print('Accuracy on test set: {:.3f}'.format(svclassifier3.score(X_test, y_test)))"
   ]
  },
  {
   "cell_type": "code",
   "execution_count": 139,
   "metadata": {},
   "outputs": [
    {
     "name": "stdout",
     "output_type": "stream",
     "text": [
      "              precision    recall  f1-score   support\n",
      "\n",
      "           0       0.78      0.96      0.86       138\n",
      "           1       0.81      0.40      0.54        62\n",
      "\n",
      "    accuracy                           0.79       200\n",
      "   macro avg       0.79      0.68      0.70       200\n",
      "weighted avg       0.79      0.79      0.76       200\n",
      "\n",
      "[[132   6]\n",
      " [ 37  25]]\n"
     ]
    }
   ],
   "source": [
    "print(metrics.classification_report(y_test, y_pred_GSVM ))\n",
    "print(metrics.confusion_matrix(y_test, y_pred_GSVM ))"
   ]
  },
  {
   "cell_type": "markdown",
   "metadata": {},
   "source": [
    "### 7.4) SVM sigmoid kernel"
   ]
  },
  {
   "cell_type": "code",
   "execution_count": 140,
   "metadata": {},
   "outputs": [
    {
     "data": {
      "text/plain": [
       "SVC(C=1.0, break_ties=False, cache_size=200, class_weight=None, coef0=0.0,\n",
       "    decision_function_shape='ovr', degree=3, gamma='scale', kernel='sigmoid',\n",
       "    max_iter=-1, probability=False, random_state=None, shrinking=True,\n",
       "    tol=0.001, verbose=False)"
      ]
     },
     "execution_count": 140,
     "metadata": {},
     "output_type": "execute_result"
    }
   ],
   "source": [
    "svclassifier4 = SVC(kernel='sigmoid')\n",
    "svclassifier4.fit(X_train, y_train)"
   ]
  },
  {
   "cell_type": "code",
   "execution_count": 141,
   "metadata": {},
   "outputs": [],
   "source": [
    "y_pred_SSVM = svclassifier4.predict(X_test)\n"
   ]
  },
  {
   "cell_type": "code",
   "execution_count": 142,
   "metadata": {},
   "outputs": [
    {
     "name": "stdout",
     "output_type": "stream",
     "text": [
      "Accuracy on train set: 0.724\n",
      "Accuracy on test set: 0.790\n"
     ]
    }
   ],
   "source": [
    "print('Accuracy on train set: {:.3f}'.format(svclassifier4.score(X_train, y_train)))\n",
    "print('Accuracy on test set: {:.3f}'.format(svclassifier4.score(X_test, y_test)))"
   ]
  },
  {
   "cell_type": "code",
   "execution_count": 143,
   "metadata": {},
   "outputs": [
    {
     "name": "stdout",
     "output_type": "stream",
     "text": [
      "[[127  11]\n",
      " [ 31  31]]\n",
      "              precision    recall  f1-score   support\n",
      "\n",
      "           0       0.80      0.92      0.86       138\n",
      "           1       0.74      0.50      0.60        62\n",
      "\n",
      "    accuracy                           0.79       200\n",
      "   macro avg       0.77      0.71      0.73       200\n",
      "weighted avg       0.78      0.79      0.78       200\n",
      "\n"
     ]
    }
   ],
   "source": [
    "print(confusion_matrix(y_test, y_pred_SSVM))\n",
    "print(classification_report(y_test, y_pred_SSVM))"
   ]
  },
  {
   "cell_type": "markdown",
   "metadata": {},
   "source": [
    "### Courbe ROC"
   ]
  },
  {
   "cell_type": "code",
   "execution_count": 144,
   "metadata": {},
   "outputs": [],
   "source": [
    "#Affichage avec la bibliothèque graphique intégrée à Notebook\n",
    "%matplotlib inline\n",
    "\n",
    "from sklearn.metrics import roc_curve, auc"
   ]
  },
  {
   "cell_type": "code",
   "execution_count": 145,
   "metadata": {},
   "outputs": [],
   "source": [
    "fpr1, tpr1, threshold1 = roc_curve(y_test, y_pred_dtc) \n",
    "roc_auc1 = auc(fpr1, tpr1)\n",
    "fpr2, tpr2, threshold2 = roc_curve(y_test, y_pred_rfc) \n",
    "roc_auc2 = auc(fpr2, tpr2)\n",
    "fpr3, tpr3, threshold3 = roc_curve(y_test, y_pred_knn)\n",
    "roc_auc3 = auc(fpr3, tpr3)\n",
    "fpr4, tpr4, threshold4 = roc_curve(y_test, y_pred_GB)\n",
    "roc_auc4 = auc(fpr4, tpr4)\n",
    "fpr5, tpr5, threshold5 = roc_curve(y_test, y_pred_XGB)\n",
    "roc_auc5 = auc(fpr5, tpr5)\n",
    "fpr6, tpr6, threshold6 = roc_curve(y_test, y_pred_logreg)\n",
    "roc_auc6 = auc(fpr6, tpr6)\n",
    "fpr7, tpr7, threshold7 = roc_curve(y_test, y_pred_NB)\n",
    "roc_auc7 = auc(fpr7, tpr7)\n",
    "fpr8, tpr8, threshold8 = roc_curve(y_test, y_pred_LSVM)\n",
    "roc_auc8 = auc(fpr8, tpr8)\n",
    "fpr9, tpr9, threshold9 = roc_curve(y_test, y_pred_PSVM)\n",
    "roc_auc9 = auc(fpr9, tpr9)\n",
    "fpr10, tpr10, threshold10 = roc_curve(y_test, y_pred_GSVM)\n",
    "roc_auc10 = auc(fpr10, tpr10)\n",
    "fpr11, tpr11, threshold11 = roc_curve(y_test, y_pred_SSVM)\n",
    "roc_auc11 = auc(fpr11, tpr11)"
   ]
  },
  {
   "cell_type": "code",
   "execution_count": 146,
   "metadata": {},
   "outputs": [
    {
     "data": {
      "image/png": "[encoded data removed]",
      "text/plain": [
       "<Figure size 432x288 with 1 Axes>"
      ]
     },
     "metadata": {
      "needs_background": "light"
     },
     "output_type": "display_data"
    }
   ],
   "source": [
    "plt.figure() \n",
    "plt.plot(fpr1, tpr1, color='navy', lw=2, label='CART ROC curve (area = %0.2f)'% roc_auc1)\n",
    "plt.plot(fpr2, tpr2, color='green', lw=2, label='Random Forest ROC curve (area = %0.2f)'% roc_auc2)\n",
    "plt.plot(fpr3, tpr3, color='yellow', lw=2, label='KNN ROC curve (area = %0.2f)'% roc_auc3)\n",
    "plt.plot(fpr4, tpr4, color='blue', lw=2, label='GB ROC curve (area = %0.2f)'% roc_auc4)\n",
    "plt.plot(fpr5, tpr5, color='red', lw=2, label='XGB ROC curve (area = %0.2f)'% roc_auc5)\n",
    "plt.plot(fpr6, tpr6, color='purple', lw=2, label='Log reg ROC curve (area = %0.2f)'% roc_auc6)\n",
    "plt.plot(fpr7, tpr7, color='gray', lw=2, label='NB ROC curve (area = %0.2f)'% roc_auc7)\n",
    "plt.plot(fpr8, tpr8, color='black', lw=2, label='LSVM ROC curve (area = %0.2f)'% roc_auc8)\n",
    "plt.plot(fpr9, tpr9, color='pink', lw=2, label='PSVM ROC curve (area = %0.2f)'% roc_auc9)\n",
    "plt.plot(fpr10, tpr10, color='orange', lw=2, label='GSVM ROC curve (area = %0.2f)'% roc_auc10)\n",
    "plt.plot(fpr11, tpr11, color='cyan', lw=2, label='SSVM ROC curve (area = %0.2f)'% roc_auc11)\n",
    "plt.plot([0, 1], [0, 1], color='black', lw=2, linestyle='--') \n",
    "plt.xlim([0.0, 1.0]) \n",
    "plt.ylim([0.0, 1.05]) \n",
    "plt.xlabel('False Positive Rate') \n",
    "plt.ylabel('True Positive Rate') \n",
    "plt.title('Classifiers ROC curves') \n",
    "plt.legend(loc = \"lower right\")\n",
    "plt.show()"
   ]
  },
  {
   "cell_type": "code",
   "execution_count": null,
   "metadata": {},
   "outputs": [],
   "source": []
  }
 ],
 "metadata": {
  "kernelspec": {
   "display_name": "Python 3",
   "language": "python",
   "name": "python3"
  },
  "language_info": {
   "codemirror_mode": {
    "name": "ipython",
    "version": 3
   },
   "file_extension": ".py",
   "mimetype": "text/x-python",
   "name": "python",
   "nbconvert_exporter": "python",
   "pygments_lexer": "ipython3",
   "version": "3.7.3"
  }
 },
 "nbformat": 4,
 "nbformat_minor": 4
}
